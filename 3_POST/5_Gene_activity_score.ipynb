{
 "cells": [
  {
   "cell_type": "code",
   "execution_count": 1,
   "metadata": {},
   "outputs": [],
   "source": [
    "import pandas as pd\n",
    "import numpy as np\n",
    "import matplotlib.pyplot as plt"
   ]
  },
  {
   "cell_type": "code",
   "execution_count": 2,
   "metadata": {},
   "outputs": [],
   "source": [
    "import pgzip as gz\n",
    "import _pickle as pkl\n",
    "\n",
    "import seaborn as sns"
   ]
  },
  {
   "cell_type": "code",
   "execution_count": 3,
   "metadata": {},
   "outputs": [],
   "source": [
    "with gz.open('TR_DATA/id_genes.pkl.gz', 'rb') as f:\n",
    "    gene_id = pkl.load(f)\n",
    "gene_to_id = { x:i for i,x in enumerate(gene_id) }\n",
    "\n",
    "with gz.open('TR_DATA/id_peaks.pkl.gz', 'rb') as f:\n",
    "    atac_id = pkl.load(f)\n",
    "atac_to_id = { x:i for i,x in enumerate(atac_id)}"
   ]
  },
  {
   "cell_type": "code",
   "execution_count": 4,
   "metadata": {},
   "outputs": [
    {
     "data": {
      "text/html": [
       "<div>\n",
       "<style scoped>\n",
       "    .dataframe tbody tr th:only-of-type {\n",
       "        vertical-align: middle;\n",
       "    }\n",
       "\n",
       "    .dataframe tbody tr th {\n",
       "        vertical-align: top;\n",
       "    }\n",
       "\n",
       "    .dataframe thead th {\n",
       "        text-align: right;\n",
       "    }\n",
       "</style>\n",
       "<table border=\"1\" class=\"dataframe\">\n",
       "  <thead>\n",
       "    <tr style=\"text-align: right;\">\n",
       "      <th></th>\n",
       "      <th>0</th>\n",
       "      <th>1</th>\n",
       "      <th>2</th>\n",
       "      <th>3</th>\n",
       "      <th>4</th>\n",
       "      <th>5</th>\n",
       "      <th>6</th>\n",
       "      <th>7</th>\n",
       "      <th>8</th>\n",
       "    </tr>\n",
       "  </thead>\n",
       "  <tbody>\n",
       "    <tr>\n",
       "      <th>0</th>\n",
       "      <td>chr1</td>\n",
       "      <td>ensGene</td>\n",
       "      <td>transcript</td>\n",
       "      <td>3073253</td>\n",
       "      <td>3074322</td>\n",
       "      <td>.</td>\n",
       "      <td>+</td>\n",
       "      <td>.</td>\n",
       "      <td>gene_id \"ENSMUSG00000102693\"; transcript_id \"E...</td>\n",
       "    </tr>\n",
       "    <tr>\n",
       "      <th>1</th>\n",
       "      <td>chr1</td>\n",
       "      <td>ensGene</td>\n",
       "      <td>exon</td>\n",
       "      <td>3073253</td>\n",
       "      <td>3074322</td>\n",
       "      <td>.</td>\n",
       "      <td>+</td>\n",
       "      <td>.</td>\n",
       "      <td>gene_id \"ENSMUSG00000102693\"; transcript_id \"E...</td>\n",
       "    </tr>\n",
       "    <tr>\n",
       "      <th>2</th>\n",
       "      <td>chr1</td>\n",
       "      <td>ensGene</td>\n",
       "      <td>transcript</td>\n",
       "      <td>3102016</td>\n",
       "      <td>3102125</td>\n",
       "      <td>.</td>\n",
       "      <td>+</td>\n",
       "      <td>.</td>\n",
       "      <td>gene_id \"ENSMUSG00000064842\"; transcript_id \"E...</td>\n",
       "    </tr>\n",
       "    <tr>\n",
       "      <th>3</th>\n",
       "      <td>chr1</td>\n",
       "      <td>ensGene</td>\n",
       "      <td>exon</td>\n",
       "      <td>3102016</td>\n",
       "      <td>3102125</td>\n",
       "      <td>.</td>\n",
       "      <td>+</td>\n",
       "      <td>.</td>\n",
       "      <td>gene_id \"ENSMUSG00000064842\"; transcript_id \"E...</td>\n",
       "    </tr>\n",
       "    <tr>\n",
       "      <th>4</th>\n",
       "      <td>chr1</td>\n",
       "      <td>ensGene</td>\n",
       "      <td>transcript</td>\n",
       "      <td>3205901</td>\n",
       "      <td>3216344</td>\n",
       "      <td>.</td>\n",
       "      <td>-</td>\n",
       "      <td>.</td>\n",
       "      <td>gene_id \"ENSMUSG00000051951\"; transcript_id \"E...</td>\n",
       "    </tr>\n",
       "  </tbody>\n",
       "</table>\n",
       "</div>"
      ],
      "text/plain": [
       "      0        1           2        3        4  5  6  7  \\\n",
       "0  chr1  ensGene  transcript  3073253  3074322  .  +  .   \n",
       "1  chr1  ensGene        exon  3073253  3074322  .  +  .   \n",
       "2  chr1  ensGene  transcript  3102016  3102125  .  +  .   \n",
       "3  chr1  ensGene        exon  3102016  3102125  .  +  .   \n",
       "4  chr1  ensGene  transcript  3205901  3216344  .  -  .   \n",
       "\n",
       "                                                   8  \n",
       "0  gene_id \"ENSMUSG00000102693\"; transcript_id \"E...  \n",
       "1  gene_id \"ENSMUSG00000102693\"; transcript_id \"E...  \n",
       "2  gene_id \"ENSMUSG00000064842\"; transcript_id \"E...  \n",
       "3  gene_id \"ENSMUSG00000064842\"; transcript_id \"E...  \n",
       "4  gene_id \"ENSMUSG00000051951\"; transcript_id \"E...  "
      ]
     },
     "execution_count": 4,
     "metadata": {},
     "output_type": "execute_result"
    }
   ],
   "source": [
    "gene_gtf = pd.read_csv('mm10.ensGene.gtf', sep='\\t', header=None)\n",
    "gene_gtf[:5]"
   ]
  },
  {
   "cell_type": "code",
   "execution_count": 5,
   "metadata": {},
   "outputs": [],
   "source": [
    "mega_to_gene_pos = dict()\n",
    "\n",
    "for k, v in gene_gtf.iterrows():\n",
    "    if v[2]!='transcript':\n",
    "        continue\n",
    "    gn = v[8].split('\"')[1]\n",
    "    if gn not in gene_to_id:\n",
    "        continue\n",
    "        \n",
    "    gid = gene_to_id[gn]\n",
    "    chrom = v[0]\n",
    "    pos = (v[3] + v[4])//2\n",
    "    tri = (gid, chrom, pos)\n",
    "    \n",
    "    mega_key = pos//1000000\n",
    "    mk1 = (chrom, mega_key)\n",
    "    mk2 = (chrom, mega_key+1)\n",
    "    \n",
    "    if mk1 not in mega_to_gene_pos:\n",
    "        mega_to_gene_pos[mk1]=[]\n",
    "    if mk2 not in mega_to_gene_pos:\n",
    "        mega_to_gene_pos[mk2]=[]\n",
    "    \n",
    "    mega_to_gene_pos[mk1].append(tri)\n",
    "    mega_to_gene_pos[mk2].append(tri)"
   ]
  },
  {
   "cell_type": "code",
   "execution_count": 6,
   "metadata": {},
   "outputs": [],
   "source": [
    "atac_to_gene = dict()\n",
    "atac_to_gene['100k'] = []\n",
    "atac_to_gene['500k'] = []\n",
    "\n",
    "for i, x in enumerate(atac_id):\n",
    "    chrom, pos = x.split(':')\n",
    "    a_pos = int(pos)\n",
    "    mega_key = (chrom, (a_pos+500000)//1000000)\n",
    "    \n",
    "    gid_set_100k = set()\n",
    "    gid_set_500k = set()\n",
    "    \n",
    "    if mega_key not in mega_to_gene_pos:\n",
    "        continue\n",
    "        \n",
    "    for gid, chrom, g_pos in mega_to_gene_pos[mega_key]:\n",
    "        dist = abs(a_pos - g_pos)\n",
    "        if dist<500000:\n",
    "            gid_set_500k.add(gid)\n",
    "            if dist<100000:\n",
    "                gid_set_100k.add(gid)\n",
    "                \n",
    "    atac_to_gene['100k'].append(sorted(list(gid_set_100k)) )\n",
    "    atac_to_gene['500k'].append(sorted(list(gid_set_500k)) )"
   ]
  },
  {
   "cell_type": "code",
   "execution_count": 7,
   "metadata": {},
   "outputs": [],
   "source": [
    "peak_np = dict()\n",
    "peak_np['ori'] = np.array(pd.read_csv('OUTPUT/peak_nucl.tsv', sep='\\t', header=None))"
   ]
  },
  {
   "cell_type": "code",
   "execution_count": 8,
   "metadata": {},
   "outputs": [],
   "source": [
    "peak_pred_dup = np.array(pd.read_csv('OUTPUT/pred_score_nucl.tsv', sep='\\t', header=None))\n",
    "L = peak_pred_dup.shape[0]//2\n",
    "peak_pred = (peak_pred_dup[:L] + peak_pred_dup[L:])/2\n",
    "\n",
    "peak_np['.50'] = np.maximum((peak_pred>0.5)  * 1.0, peak_np['ori'])\n",
    "peak_np['.45'] = np.maximum((peak_pred>0.45) * 1.0, peak_np['ori'])\n",
    "peak_np['.55'] = np.maximum((peak_pred>0.55) * 1.0, peak_np['ori'])"
   ]
  },
  {
   "cell_type": "code",
   "execution_count": 9,
   "metadata": {},
   "outputs": [],
   "source": [
    "peak_total = dict()\n",
    "for i, a2g in atac_to_gene.items():\n",
    "    pt = np.zeros((len(gene_id),1))\n",
    "    for gids in a2g:\n",
    "        pt[gids,0]+=1\n",
    "    peak_total[i] = pt"
   ]
  },
  {
   "cell_type": "code",
   "execution_count": 10,
   "metadata": {},
   "outputs": [],
   "source": [
    "with gz.open('TR_DATA/data_X2.pkl.gz', 'rb') as f:\n",
    "    gene_exp = pkl.load(f)"
   ]
  },
  {
   "cell_type": "code",
   "execution_count": 11,
   "metadata": {},
   "outputs": [],
   "source": [
    "gene_act = dict()"
   ]
  },
  {
   "cell_type": "code",
   "execution_count": 12,
   "metadata": {},
   "outputs": [],
   "source": [
    "for i, pn in peak_np.items():\n",
    "    for j, a2g in atac_to_gene.items():\n",
    "        np_new = np.zeros_like(gene_exp)\n",
    "        for peak1, gids in zip(pn, a2g):\n",
    "            np_new[gids,:]+=peak1\n",
    "    \n",
    "        np_new/=(peak_total[j]+0.000001)\n",
    "        gene_act[(i, j)]=np_new"
   ]
  },
  {
   "cell_type": "code",
   "execution_count": 13,
   "metadata": {},
   "outputs": [
    {
     "data": {
      "image/png": "[encoded data removed]",
      "text/plain": [
       "<Figure size 432x288 with 1 Axes>"
      ]
     },
     "metadata": {
      "needs_background": "light"
     },
     "output_type": "display_data"
    },
    {
     "data": {
      "image/png": "[encoded data removed]",
      "text/plain": [
       "<Figure size 432x288 with 1 Axes>"
      ]
     },
     "metadata": {
      "needs_background": "light"
     },
     "output_type": "display_data"
    },
    {
     "data": {
      "image/png": "[encoded data removed]",
      "text/plain": [
       "<Figure size 432x288 with 1 Axes>"
      ]
     },
     "metadata": {
      "needs_background": "light"
     },
     "output_type": "display_data"
    },
    {
     "data": {
      "image/png": "[encoded data removed]",
      "text/plain": [
       "<Figure size 432x288 with 1 Axes>"
      ]
     },
     "metadata": {
      "needs_background": "light"
     },
     "output_type": "display_data"
    },
    {
     "data": {
      "image/png": "[encoded data removed]",
      "text/plain": [
       "<Figure size 432x288 with 1 Axes>"
      ]
     },
     "metadata": {
      "needs_background": "light"
     },
     "output_type": "display_data"
    },
    {
     "data": {
      "image/png": "[encoded data removed]",
      "text/plain": [
       "<Figure size 432x288 with 1 Axes>"
      ]
     },
     "metadata": {
      "needs_background": "light"
     },
     "output_type": "display_data"
    },
    {
     "data": {
      "image/png": "[encoded data removed]",
      "text/plain": [
       "<Figure size 432x288 with 1 Axes>"
      ]
     },
     "metadata": {
      "needs_background": "light"
     },
     "output_type": "display_data"
    },
    {
     "data": {
      "image/png": "[encoded data removed]",
      "text/plain": [
       "<Figure size 432x288 with 1 Axes>"
      ]
     },
     "metadata": {
      "needs_background": "light"
     },
     "output_type": "display_data"
    }
   ],
   "source": [
    "gene_exp_box = gene_exp.flatten()\n",
    "\n",
    "for k, ga in gene_act.items():\n",
    "    gas = (ga.flatten()*100+5)//10\n",
    "    sns.boxplot(x=gas, y=gene_exp_box)\n",
    "    plt.title(k, size=10)\n",
    "    plt.show()"
   ]
  },
  {
   "cell_type": "code",
   "execution_count": 14,
   "metadata": {},
   "outputs": [],
   "source": [
    "peak_np = dict()\n",
    "peak_np['ori'] = np.array(pd.read_csv('OUTPUT/peak_methyl.tsv', sep='\\t', header=None))"
   ]
  },
  {
   "cell_type": "code",
   "execution_count": 15,
   "metadata": {},
   "outputs": [],
   "source": [
    "peak_pred_dup = np.array(pd.read_csv('OUTPUT/pred_score_methyl.tsv', sep='\\t', header=None))\n",
    "L = peak_pred_dup.shape[0]//2\n",
    "peak_pred = (peak_pred_dup[:L] + peak_pred_dup[L:])/2\n",
    "\n",
    "peak_np['.50'] = np.maximum((peak_pred>0.5)  * 1.0, peak_np['ori'])\n",
    "peak_np['.45'] = np.maximum((peak_pred>0.45) * 1.0, peak_np['ori'])\n",
    "peak_np['.55'] = np.maximum((peak_pred>0.55) * 1.0, peak_np['ori'])"
   ]
  },
  {
   "cell_type": "code",
   "execution_count": 16,
   "metadata": {},
   "outputs": [],
   "source": [
    "peak_total = dict()\n",
    "for i, a2g in atac_to_gene.items():\n",
    "    pt = np.zeros((len(gene_id),1))\n",
    "    for gids in a2g:\n",
    "        pt[gids,0]+=1\n",
    "    peak_total[i] = pt"
   ]
  },
  {
   "cell_type": "code",
   "execution_count": 17,
   "metadata": {},
   "outputs": [],
   "source": [
    "with gz.open('TR_DATA/data_X2.pkl.gz', 'rb') as f:\n",
    "    gene_exp = pkl.load(f)"
   ]
  },
  {
   "cell_type": "code",
   "execution_count": 18,
   "metadata": {},
   "outputs": [],
   "source": [
    "gene_act = dict()"
   ]
  },
  {
   "cell_type": "code",
   "execution_count": 19,
   "metadata": {},
   "outputs": [],
   "source": [
    "for i, pn in peak_np.items():\n",
    "    for j, a2g in atac_to_gene.items():\n",
    "        np_new = np.zeros_like(gene_exp)\n",
    "        for peak1, gids in zip(pn, a2g):\n",
    "            np_new[gids,:]+=peak1\n",
    "    \n",
    "        np_new/=(peak_total[j]+0.000001)\n",
    "        gene_act[(i, j)]=np_new"
   ]
  },
  {
   "cell_type": "code",
   "execution_count": 20,
   "metadata": {},
   "outputs": [
    {
     "data": {
      "image/png": "[encoded data removed]",
      "text/plain": [
       "<Figure size 432x288 with 1 Axes>"
      ]
     },
     "metadata": {
      "needs_background": "light"
     },
     "output_type": "display_data"
    },
    {
     "data": {
      "image/png": "[encoded data removed]",
      "text/plain": [
       "<Figure size 432x288 with 1 Axes>"
      ]
     },
     "metadata": {
      "needs_background": "light"
     },
     "output_type": "display_data"
    },
    {
     "data": {
      "image/png": "[encoded data removed]",
      "text/plain": [
       "<Figure size 432x288 with 1 Axes>"
      ]
     },
     "metadata": {
      "needs_background": "light"
     },
     "output_type": "display_data"
    },
    {
     "data": {
      "image/png": "[encoded data removed]",
      "text/plain": [
       "<Figure size 432x288 with 1 Axes>"
      ]
     },
     "metadata": {
      "needs_background": "light"
     },
     "output_type": "display_data"
    },
    {
     "data": {
      "image/png": "[encoded data removed]",
      "text/plain": [
       "<Figure size 432x288 with 1 Axes>"
      ]
     },
     "metadata": {
      "needs_background": "light"
     },
     "output_type": "display_data"
    },
    {
     "data": {
      "image/png": "[encoded data removed]",
      "text/plain": [
       "<Figure size 432x288 with 1 Axes>"
      ]
     },
     "metadata": {
      "needs_background": "light"
     },
     "output_type": "display_data"
    },
    {
     "data": {
      "image/png": "[encoded data removed]",
      "text/plain": [
       "<Figure size 432x288 with 1 Axes>"
      ]
     },
     "metadata": {
      "needs_background": "light"
     },
     "output_type": "display_data"
    },
    {
     "data": {
      "image/png": "[encoded data removed]",
      "text/plain": [
       "<Figure size 432x288 with 1 Axes>"
      ]
     },
     "metadata": {
      "needs_background": "light"
     },
     "output_type": "display_data"
    }
   ],
   "source": [
    "gene_exp_box = gene_exp.flatten()\n",
    "\n",
    "for k, ga in gene_act.items():\n",
    "    gas = (ga.flatten()*100+5)//10\n",
    "    sns.boxplot(x=gas, y=gene_exp_box)\n",
    "    plt.title(k, size=10)\n",
    "    plt.show()"
   ]
  },
  {
   "cell_type": "code",
   "execution_count": 21,
   "metadata": {},
   "outputs": [
    {
     "data": {
      "image/png": "[encoded data removed]",
      "text/plain": [
       "<Figure size 432x288 with 1 Axes>"
      ]
     },
     "metadata": {
      "needs_background": "light"
     },
     "output_type": "display_data"
    },
    {
     "data": {
      "image/png": "[encoded data removed]",
      "text/plain": [
       "<Figure size 432x288 with 1 Axes>"
      ]
     },
     "metadata": {
      "needs_background": "light"
     },
     "output_type": "display_data"
    },
    {
     "data": {
      "image/png": "[encoded data removed]",
      "text/plain": [
       "<Figure size 432x288 with 1 Axes>"
      ]
     },
     "metadata": {
      "needs_background": "light"
     },
     "output_type": "display_data"
    },
    {
     "data": {
      "image/png": "[encoded data removed]",
      "text/plain": [
       "<Figure size 432x288 with 1 Axes>"
      ]
     },
     "metadata": {
      "needs_background": "light"
     },
     "output_type": "display_data"
    },
    {
     "data": {
      "image/png": "[encoded data removed]",
      "text/plain": [
       "<Figure size 432x288 with 1 Axes>"
      ]
     },
     "metadata": {
      "needs_background": "light"
     },
     "output_type": "display_data"
    },
    {
     "data": {
      "image/png": "[encoded data removed]",
      "text/plain": [
       "<Figure size 432x288 with 1 Axes>"
      ]
     },
     "metadata": {
      "needs_background": "light"
     },
     "output_type": "display_data"
    },
    {
     "data": {
      "image/png": "[encoded data removed]",
      "text/plain": [
       "<Figure size 432x288 with 1 Axes>"
      ]
     },
     "metadata": {
      "needs_background": "light"
     },
     "output_type": "display_data"
    },
    {
     "data": {
      "image/png": "[encoded data removed]",
      "text/plain": [
       "<Figure size 432x288 with 1 Axes>"
      ]
     },
     "metadata": {
      "needs_background": "light"
     },
     "output_type": "display_data"
    }
   ],
   "source": [
    "gene_exp_box = (gene_exp.flatten()*100+5)//10\n",
    "\n",
    "for k, ga in gene_act.items():\n",
    "    sns.boxplot(x=gene_exp_box, y=ga.flatten())\n",
    "    plt.title(k, size=24)\n",
    "    plt.show()"
   ]
  },
  {
   "cell_type": "code",
   "execution_count": 22,
   "metadata": {},
   "outputs": [
    {
     "ename": "NameError",
     "evalue": "name 'error' is not defined",
     "output_type": "error",
     "traceback": [
      "\u001b[0;31m---------------------------------------------------------------------------\u001b[0m",
      "\u001b[0;31mNameError\u001b[0m                                 Traceback (most recent call last)",
      "\u001b[0;32m<ipython-input-22-3724b3ebbd47>\u001b[0m in \u001b[0;36m<module>\u001b[0;34m\u001b[0m\n\u001b[0;32m----> 1\u001b[0;31m \u001b[0merror\u001b[0m\u001b[0;34m(\u001b[0m\u001b[0merror\u001b[0m\u001b[0;34m)\u001b[0m\u001b[0;34m\u001b[0m\u001b[0;34m\u001b[0m\u001b[0m\n\u001b[0m",
      "\u001b[0;31mNameError\u001b[0m: name 'error' is not defined"
     ]
    }
   ],
   "source": [
    "error(error)"
   ]
  },
  {
   "cell_type": "code",
   "execution_count": null,
   "metadata": {},
   "outputs": [],
   "source": [
    "gene_ori = np.zeros((peak_ori.shape[0],1))"
   ]
  },
  {
   "cell_type": "code",
   "execution_count": null,
   "metadata": {},
   "outputs": [],
   "source": [
    "gene_to_pos = dict()\n",
    "meg_to_gene = dict()\n",
    "\n",
    "for x in gene_table.iterrows():\n",
    "    chrom, pos1, pos2, gn = list(x[1])\n",
    "    if gn not in gene_to_id:\n",
    "        continue\n",
    "    pos = (pos1+pos2)//2\n",
    "    \n",
    "    gid = gene_to_id[gn]\n",
    "    gene_to_pos[gn] = [chrom, pos, gid ]\n",
    "    \n",
    "    meg1 = pos//1000000\n",
    "    key1 = (chrom, meg1)\n",
    "    if key1 not in meg_to_gene:\n",
    "        meg_to_gene[key1] = []\n",
    "    meg_to_gene[key1].append(gn)\n",
    "    key2 = (chrom, meg1+1)\n",
    "    if key2 not in meg_to_gene:\n",
    "        meg_to_gene[key2] = []\n",
    "    meg_to_gene[key2].append(gn)    "
   ]
  },
  {
   "cell_type": "code",
   "execution_count": null,
   "metadata": {},
   "outputs": [],
   "source": [
    "atac_to_gene_10k = [[]] * len(atac_id)\n",
    "atac_to_gene_50k = [[]] * len(atac_id)\n",
    "gene_to_atac_50k = [[]] * len(gene_id)\n",
    "gene_to_atac_10k = [[]] * len(gene_id)"
   ]
  },
  {
   "cell_type": "code",
   "execution_count": null,
   "metadata": {},
   "outputs": [],
   "source": [
    "for i, x in enumerate(atac_id):\n",
    "    \n",
    "    chrom, pos = x.split(':')\n",
    "    pos = int(pos)\n",
    "    meg1 = (pos + 500000)//1000000\n",
    "    key1 = (chrom, meg1)\n",
    "    if key1 not in meg_to_gene:\n",
    "        continue\n",
    "        \n",
    "    for gn in meg_to_gene[key1]:\n",
    "        \n",
    "        g_chr, g_pos, g_id = gene_to_pos[gn]\n",
    "        if abs(pos - g_pos) < 500000:\n",
    "            atac_to_gene_50k[i].append(g_id)\n",
    "            gene_to_atac_50k[g_id].append(i)\n",
    "            \n",
    "            if abs(pos - g_pos) < 100000:\n",
    "                atac_to_gene_10k[i].append(g_id)\n",
    "                gene_to_atac_10k[g_id].append(i)"
   ]
  },
  {
   "cell_type": "code",
   "execution_count": null,
   "metadata": {},
   "outputs": [],
   "source": [
    "meg_to_gene"
   ]
  },
  {
   "cell_type": "code",
   "execution_count": null,
   "metadata": {},
   "outputs": [],
   "source": [
    "gene_to_atac_10k"
   ]
  },
  {
   "cell_type": "code",
   "execution_count": null,
   "metadata": {},
   "outputs": [],
   "source": [
    "pd.read_csv('TR_DATA/id_peaks.pkl.gz')"
   ]
  },
  {
   "cell_type": "code",
   "execution_count": null,
   "metadata": {
    "scrolled": false
   },
   "outputs": [],
   "source": [
    "gene_gtf_tr[8].apply( lambda x: x.split(';')[0].split(' ')[1] )"
   ]
  },
  {
   "cell_type": "code",
   "execution_count": null,
   "metadata": {},
   "outputs": [],
   "source": [
    "from sklearn.metrics import roc_curve, auc\n",
    "from sklearn.metrics import precision_recall_curve\n",
    "\n",
    "%matplotlib inline\n",
    "\n",
    "import matplotlib as mpl\n",
    "mpl.rcParams[\"figure.facecolor\"] = \"white\"\n",
    "mpl.rcParams[\"axes.facecolor\"] = \"white\"\n",
    "mpl.rcParams[\"savefig.facecolor\"] = \"white\""
   ]
  },
  {
   "cell_type": "code",
   "execution_count": null,
   "metadata": {},
   "outputs": [],
   "source": [
    "def recalculate_fpr_tpr(fpr, tpr, totalT, totalF, percent):\n",
    "    hT = totalF * percent/100 #hidden true\n",
    "    \n",
    "    T_re = totalT + hT\n",
    "    F_re = totalF - hT\n",
    "    \n",
    "    hTp = tpr * hT\n",
    "    Fp = fpr * totalF\n",
    "    Fp_re = Fp - hTp\n",
    "    fpr_re = Fp_re / F_re\n",
    "        \n",
    "    args = np.argsort(fpr_re)\n",
    "    fpr_re_s = fpr_re[args]\n",
    "    tpr_re_s = tpr[args]\n",
    "    mask = (fpr_re_s>=0)\n",
    "    \n",
    "    return fpr_re_s[mask], tpr_re_s[mask]\n",
    "    "
   ]
  },
  {
   "cell_type": "code",
   "execution_count": null,
   "metadata": {},
   "outputs": [],
   "source": [
    "def getTestPred(Y_true, Y_pred):\n",
    "    N = len(Y_true)\n",
    "    y_test = np.array(Y_true).flatten()\n",
    "\n",
    "    y_score_2x = np.array(Y_pred)\n",
    "    y_score = ((y_score_2x[:N,:] + y_score_2x[N:,:]) / 2).flatten()\n",
    "\n",
    "    totalT = np.sum(y_test)\n",
    "    totalF = y_test.shape[0] - totalT\n",
    "    \n",
    "    return y_test, y_score, totalT, totalF\n",
    "\n"
   ]
  },
  {
   "cell_type": "code",
   "execution_count": null,
   "metadata": {},
   "outputs": [],
   "source": [
    "def getFprTprAuc(y_test, y_score, totalT, totalF):\n",
    "    \n",
    "    fpr, tpr, roc_auc = [0]*5, [0]*5, [0]*5\n",
    "\n",
    "    fpr[0], tpr[0], _ = roc_curve(y_test, y_score)\n",
    "    roc_auc[0] = auc(fpr[0], tpr[0])\n",
    "\n",
    "    for x in range(1,5):\n",
    "        fpr[x], tpr[x] = recalculate_fpr_tpr(fpr[0], tpr[0], totalT, totalF, x*10 )\n",
    "        roc_auc[x] = auc(fpr[x], tpr[x])\n",
    "        \n",
    "    return fpr, tpr, roc_auc"
   ]
  },
  {
   "cell_type": "code",
   "execution_count": null,
   "metadata": {},
   "outputs": [],
   "source": [
    "def drawAUC(fpr, tpr, roc_auc):\n",
    "    plt.figure()\n",
    "    lw = 2\n",
    "    #cmap_a = ['grey','b','g','orange','r']\n",
    "    cmap_a = ['navy', 'turquoise', 'darkorange', 'cornflowerblue', 'teal']\n",
    "\n",
    "    plt.axis('square')\n",
    "    for x in range(len(fpr)):\n",
    "        plt.plot(fpr[x], tpr[x], c=cmap_a[x],\n",
    "             lw=lw, label='%d%% (AUC = %0.2f)' % (x*10, roc_auc[x]))\n",
    "    plt.plot([0, 1], [0, 1], color='navy', lw=lw, linestyle='--')\n",
    "    plt.xlim([0.0, 1.0])\n",
    "    plt.ylim([0.0, 1.0])\n",
    "    plt.xlabel('False Positive Rate')\n",
    "    plt.ylabel('True Positive Rate')\n",
    "    plt.title('Receiver operating characteristic')\n",
    "    plt.legend(loc=\"lower right\")\n",
    "    plt.show()"
   ]
  },
  {
   "cell_type": "code",
   "execution_count": null,
   "metadata": {},
   "outputs": [],
   "source": [
    "def drawPicFromData(Y_TRUE, NP_PRED):\n",
    "    y_test, y_score, totalT, totalF = getTestPred(Y_TRUE, NP_PRED)\n",
    "    print('T=', totalT, 'F=', totalF)\n",
    "    fpr, tpr, roc_auc = getFprTprAuc(y_test, y_score, totalT, totalF)\n",
    "    drawAUC(fpr, tpr, roc_auc)"
   ]
  },
  {
   "cell_type": "code",
   "execution_count": null,
   "metadata": {},
   "outputs": [],
   "source": [
    "def prec_recall(Y_TRUE, NP_PRED):\n",
    "    y_test, y_score, totalT, totalF = getTestPred(Y_TRUE, NP_PRED)\n",
    "    precision, recall, thresholds = precision_recall_curve( y_test, y_score)\n",
    "    \n",
    "    F1 = 2*(recall * precision) / (recall + precision)\n",
    "    F2 = 5*(recall * precision) / (recall + 4*precision)\n",
    "\n",
    "    plt.figure()\n",
    "    lw = 2\n",
    "    #cmap_a = ['grey','b','g','orange','r']\n",
    "    cmap_a = ['navy', 'turquoise', 'darkorange', 'cornflowerblue', 'teal']\n",
    "\n",
    "    plt.axis('square')\n",
    "    plt.plot(thresholds, precision[:-1], c=cmap_a[0], lw=lw, label='precision')\n",
    "    plt.plot(thresholds, recall[:-1],    c=cmap_a[1], lw=lw, label='recall')\n",
    "    plt.plot(thresholds, F1[:-1],        c=cmap_a[2], lw=lw, label='F1')\n",
    "    plt.plot(thresholds, F2[:-1],        c=cmap_a[3], lw=lw, label='F2')\n",
    "    plt.xlim([0.0, 1.0])\n",
    "    plt.ylim([0.0, 1.0])\n",
    "    plt.xlabel('Threshold')\n",
    "    plt.ylabel('')\n",
    "    plt.title('Prec/Recall')\n",
    "    plt.legend(loc=\"lower right\")\n",
    "    plt.show()"
   ]
  },
  {
   "cell_type": "code",
   "execution_count": null,
   "metadata": {},
   "outputs": [],
   "source": [
    "NP_Nucl = pd.read_csv('OUTPUT/pred_score_nucl.tsv', sep='\\t', header=None)\n",
    "NP_Methyl = pd.read_csv('OUTPUT/pred_score_methyl.tsv', sep='\\t', header=None)\n",
    "\n",
    "Y_Nucl = pd.read_csv('OUTPUT/peak_nucl.tsv', sep='\\t', header=None)\n",
    "Y_Methyl = pd.read_csv('OUTPUT/peak_methyl.tsv', sep='\\t', header=None)"
   ]
  },
  {
   "cell_type": "code",
   "execution_count": null,
   "metadata": {},
   "outputs": [],
   "source": [
    "NP_Nucl_c = pd.read_csv('OUTPUT/pred_c0_score_nucl.tsv', sep='\\t', header=None)\n",
    "NP_Methyl_c = pd.read_csv('OUTPUT/pred_c1_score_met.tsv', sep='\\t', header=None)\n",
    "\n",
    "Y_Nucl_c = pd.read_csv('OUTPUT/peak_c0_nucl.tsv', sep='\\t', header=None)\n",
    "Y_Methyl_c = pd.read_csv('OUTPUT/peak_c1_met.tsv', sep='\\t', header=None)"
   ]
  },
  {
   "cell_type": "code",
   "execution_count": null,
   "metadata": {},
   "outputs": [],
   "source": [
    "Y_Nucl.shape"
   ]
  },
  {
   "cell_type": "code",
   "execution_count": null,
   "metadata": {},
   "outputs": [],
   "source": [
    "y_test, y_score, totalT, totalF = getTestPred(Y_Nucl, NP_Nucl)\n",
    "print('T=', totalT, 'F=', totalF)\n",
    "fpr, tpr, roc_auc = getFprTprAuc(y_test, y_score, totalT, totalF)\n",
    "drawAUC(fpr[:1], tpr[:1], roc_auc[:1])"
   ]
  },
  {
   "cell_type": "code",
   "execution_count": null,
   "metadata": {},
   "outputs": [],
   "source": [
    "y_test_c, y_score_c, totalT_c, totalF_c = getTestPred(Y_Nucl_c, NP_Nucl_c)\n",
    "print('Tc=', totalT_c, 'Fc=', totalF_c)\n",
    "fpr_c, tpr_c, roc_auc_c = getFprTprAuc(y_test_c, y_score_c, totalT_c, totalF_c)\n",
    "drawAUC(fpr_c[:1], tpr_c[:1], roc_auc_c[:1])"
   ]
  },
  {
   "cell_type": "code",
   "execution_count": null,
   "metadata": {},
   "outputs": [],
   "source": [
    "y_test, y_score, totalT, totalF = getTestPred(Y_Methyl, NP_Methyl)\n",
    "print('T=', totalT, 'F=', totalF)\n",
    "fpr, tpr, roc_auc = getFprTprAuc(y_test, y_score, totalT, totalF)\n",
    "drawAUC(fpr[:1], tpr[:1], roc_auc[:1])"
   ]
  },
  {
   "cell_type": "code",
   "execution_count": null,
   "metadata": {},
   "outputs": [],
   "source": [
    "y_test, y_score, totalT, totalF = getTestPred(Y_Methyl_c, NP_Methyl_c)\n",
    "print('T=', totalT, 'F=', totalF)\n",
    "fpr, tpr, roc_auc = getFprTprAuc(y_test, y_score, totalT, totalF)\n",
    "drawAUC(fpr[:1], tpr[:1], roc_auc[:1])"
   ]
  },
  {
   "cell_type": "code",
   "execution_count": null,
   "metadata": {},
   "outputs": [],
   "source": [
    "drawPicFromData(Y_Nucl, NP_Nucl)"
   ]
  },
  {
   "cell_type": "code",
   "execution_count": null,
   "metadata": {},
   "outputs": [],
   "source": [
    "drawPicFromData(Y_Methyl, NP_Methyl)"
   ]
  },
  {
   "cell_type": "code",
   "execution_count": null,
   "metadata": {},
   "outputs": [],
   "source": [
    "drawPicFromData(Y_Nucl_c, NP_Nucl_c)"
   ]
  },
  {
   "cell_type": "code",
   "execution_count": null,
   "metadata": {},
   "outputs": [],
   "source": [
    "drawPicFromData(Y_Methyl_c, NP_Methyl_c)"
   ]
  },
  {
   "cell_type": "code",
   "execution_count": null,
   "metadata": {},
   "outputs": [],
   "source": [
    "prec_recall(Y_Nucl, NP_Nucl)"
   ]
  },
  {
   "cell_type": "code",
   "execution_count": null,
   "metadata": {},
   "outputs": [],
   "source": [
    "prec_recall(Y_Methyl, NP_Methyl)"
   ]
  },
  {
   "cell_type": "code",
   "execution_count": null,
   "metadata": {},
   "outputs": [],
   "source": [
    "prec_recall(Y_Nucl_c, NP_Nucl_c)"
   ]
  },
  {
   "cell_type": "code",
   "execution_count": null,
   "metadata": {},
   "outputs": [],
   "source": [
    "prec_recall(Y_Methyl_c, NP_Methyl_c)"
   ]
  },
  {
   "cell_type": "code",
   "execution_count": null,
   "metadata": {},
   "outputs": [],
   "source": [
    "NP_Nucl_10pct = pd.read_csv('OUTPUT/pred_score_nucl_10pct.tsv', sep='\\t', header=None)\n",
    "NP_Methyl_10pct = pd.read_csv('OUTPUT/pred_score_methyl_10pct.tsv', sep='\\t', header=None)\n",
    "\n",
    "Y_Nucl_10pct = pd.read_csv('OUTPUT/peak_nucl_10pct.tsv', sep='\\t', header=None)\n",
    "Y_Methyl_10pct = pd.read_csv('OUTPUT/peak_methyl_10pct.tsv', sep='\\t', header=None)"
   ]
  },
  {
   "cell_type": "code",
   "execution_count": null,
   "metadata": {},
   "outputs": [],
   "source": [
    "drawPicFromData(Y_Nucl_10pct, NP_Nucl_10pct)"
   ]
  },
  {
   "cell_type": "code",
   "execution_count": null,
   "metadata": {},
   "outputs": [],
   "source": [
    "drawPicFromData(Y_Methyl_10pct, NP_Methyl_10pct)"
   ]
  },
  {
   "cell_type": "code",
   "execution_count": null,
   "metadata": {},
   "outputs": [],
   "source": [
    "drawPicFromData(Y_Nucl, NP_Nucl_10pct)"
   ]
  },
  {
   "cell_type": "code",
   "execution_count": null,
   "metadata": {},
   "outputs": [],
   "source": [
    "drawPicFromData(Y_Methyl, NP_Methyl_10pct)"
   ]
  },
  {
   "cell_type": "code",
   "execution_count": null,
   "metadata": {},
   "outputs": [],
   "source": [
    "prec_recall(Y_Nucl_10pct, NP_Nucl_10pct)"
   ]
  },
  {
   "cell_type": "code",
   "execution_count": null,
   "metadata": {},
   "outputs": [],
   "source": [
    "prec_recall(Y_Methyl_10pct, NP_Methyl_10pct)"
   ]
  },
  {
   "cell_type": "code",
   "execution_count": null,
   "metadata": {},
   "outputs": [],
   "source": [
    "prec_recall(Y_Nucl, NP_Nucl_10pct)"
   ]
  },
  {
   "cell_type": "code",
   "execution_count": null,
   "metadata": {},
   "outputs": [],
   "source": [
    "prec_recall(Y_Methyl, NP_Methyl_10pct)"
   ]
  },
  {
   "cell_type": "code",
   "execution_count": null,
   "metadata": {},
   "outputs": [],
   "source": [
    "NP_Nucl_20pct = pd.read_csv('OUTPUT/pred_score_nucl_20pct.tsv', sep='\\t', header=None)\n",
    "NP_Methyl_20pct = pd.read_csv('OUTPUT/pred_score_methyl_20pct.tsv', sep='\\t', header=None)\n",
    "\n",
    "Y_Nucl_20pct = pd.read_csv('OUTPUT/peak_nucl_20pct.tsv', sep='\\t', header=None)\n",
    "Y_Methyl_20pct = pd.read_csv('OUTPUT/peak_methyl_20pct.tsv', sep='\\t', header=None)"
   ]
  },
  {
   "cell_type": "code",
   "execution_count": null,
   "metadata": {},
   "outputs": [],
   "source": [
    "drawPicFromData(Y_Nucl_20pct, NP_Nucl_20pct)"
   ]
  },
  {
   "cell_type": "code",
   "execution_count": null,
   "metadata": {},
   "outputs": [],
   "source": [
    "drawPicFromData(Y_Methyl_20pct, NP_Methyl_20pct)"
   ]
  },
  {
   "cell_type": "code",
   "execution_count": null,
   "metadata": {},
   "outputs": [],
   "source": [
    "drawPicFromData(Y_Nucl, NP_Nucl_20pct)"
   ]
  },
  {
   "cell_type": "code",
   "execution_count": null,
   "metadata": {},
   "outputs": [],
   "source": [
    "drawPicFromData(Y_Methyl, NP_Methyl_20pct)"
   ]
  },
  {
   "cell_type": "code",
   "execution_count": null,
   "metadata": {},
   "outputs": [],
   "source": [
    "prec_recall(Y_Nucl_20pct, NP_Nucl_20pct)"
   ]
  },
  {
   "cell_type": "code",
   "execution_count": null,
   "metadata": {},
   "outputs": [],
   "source": [
    "prec_recall(Y_Methyl_20pct, NP_Methyl_20pct)"
   ]
  },
  {
   "cell_type": "code",
   "execution_count": null,
   "metadata": {},
   "outputs": [],
   "source": [
    "prec_recall(Y_Nucl, NP_Nucl_20pct)"
   ]
  },
  {
   "cell_type": "code",
   "execution_count": null,
   "metadata": {},
   "outputs": [],
   "source": [
    "prec_recall(Y_Methyl, NP_Methyl_20pct)"
   ]
  },
  {
   "cell_type": "code",
   "execution_count": null,
   "metadata": {},
   "outputs": [],
   "source": [
    "def draw_trainig_curve(fn):\n",
    "    with gz.open(fn, 'rb') as f:\n",
    "        (epoch0_loss, l_loss) = pkl.load(f)\n",
    "\n",
    "    L = len(epoch0_loss)\n",
    "    np_L = np.expand_dims(np.array(range(1, L+1))/(L+1), axis=1)\n",
    "    np_epoch = np.array(epoch0_loss)\n",
    "    np_mean = np_epoch.mean(axis=1, keepdims=True)\n",
    "    np_epoch0 = np.concatenate([np_L, np_epoch, np_mean], axis=1)\n",
    "\n",
    "    L = len(l_loss)\n",
    "    np_L = np.expand_dims(np.array(range(1, L+1)), axis=1)\n",
    "    np_epoch = np.array(l_loss)\n",
    "    np_mean = np_epoch.mean(axis=1, keepdims=True)\n",
    "    np_epoch1 = np.concatenate([np_L, np_epoch, np_mean], axis=1)\n",
    "\n",
    "    pd_loss = pd.DataFrame( np.concatenate([np_epoch0,np_epoch1], axis=0) )\n",
    "\n",
    "    sns.lineplot(x=0, y=1, data=pd_loss)\n",
    "    sns.lineplot(x=0, y=2, data=pd_loss)\n",
    "    sns.lineplot(x=0, y=3, data=pd_loss)\n",
    "    plt.xscale('log')"
   ]
  },
  {
   "cell_type": "code",
   "execution_count": null,
   "metadata": {},
   "outputs": [],
   "source": [
    "draw_trainig_curve('OUTPUT/loss_dup.pkl.gz')"
   ]
  },
  {
   "cell_type": "code",
   "execution_count": null,
   "metadata": {},
   "outputs": [],
   "source": [
    "draw_trainig_curve('OUTPUT/loss_.pkl.gz')"
   ]
  },
  {
   "cell_type": "code",
   "execution_count": null,
   "metadata": {},
   "outputs": [],
   "source": []
  }
 ],
 "metadata": {
  "kernelspec": {
   "display_name": "Python 3",
   "language": "python",
   "name": "python3"
  },
  "language_info": {
   "codemirror_mode": {
    "name": "ipython",
    "version": 3
   },
   "file_extension": ".py",
   "mimetype": "text/x-python",
   "name": "python",
   "nbconvert_exporter": "python",
   "pygments_lexer": "ipython3",
   "version": "3.7.5"
  }
 },
 "nbformat": 4,
 "nbformat_minor": 2
}
