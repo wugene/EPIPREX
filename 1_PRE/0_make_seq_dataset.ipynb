{
 "cells": [
  {
   "cell_type": "code",
   "execution_count": 1,
   "metadata": {},
   "outputs": [],
   "source": [
    "from glob import glob\n",
    "\n",
    "import pgzip as gz\n",
    "import _pickle as pkl\n",
    "\n",
    "import pandas as pd\n",
    "import numpy as np\n",
    "\n",
    "import random\n",
    "import seaborn as sns"
   ]
  },
  {
   "cell_type": "markdown",
   "metadata": {},
   "source": [
    "## Reading Files"
   ]
  },
  {
   "cell_type": "markdown",
   "metadata": {},
   "source": [
    "### X1: Sequence"
   ]
  },
  {
   "cell_type": "code",
   "execution_count": 2,
   "metadata": {},
   "outputs": [],
   "source": [
    "dict_seq = pd.read_csv('DATA_scMNT/X1.tsv', sep='\\t', header=None, index_col=0, squeeze=True).to_dict()"
   ]
  },
  {
   "cell_type": "markdown",
   "metadata": {},
   "source": [
    "### X2: Gene Expr, Y: Epigenomic peaks\n",
    "1. X1 : peaks x 1000 bps\n",
    "1. X2 : genes x cells\n",
    "1. Ys: peaks x cells x #of Y"
   ]
  },
  {
   "cell_type": "code",
   "execution_count": 17,
   "metadata": {},
   "outputs": [],
   "source": [
    "with gz.open('DATA_scMNT/X2_Y.pkl.gz') as f:\n",
    "    l_cells, l_genes, l_peaks, np_X2, np_Ys = pkl.load(f)"
   ]
  },
  {
   "cell_type": "markdown",
   "metadata": {},
   "source": [
    "## X1: Sequence processing"
   ]
  },
  {
   "cell_type": "code",
   "execution_count": 4,
   "metadata": {},
   "outputs": [],
   "source": [
    "C_1HE = {\n",
    "    'a':[1,0,0,0],\n",
    "    'c':[0,1,0,0],\n",
    "    'g':[0,0,1,0],\n",
    "    't':[0,0,0,1],\n",
    "    'A':[1,0,0,0],\n",
    "    'C':[0,1,0,0],\n",
    "    'G':[0,0,1,0],\n",
    "    'T':[0,0,0,1],\n",
    "    'n':[0,0,0,0],\n",
    "    'N':[0,0,0,0]\n",
    "}\n",
    "\n",
    "def seq_to_numpy(seq):\n",
    "    char_list = [ C_1HE[x] for x in seq ]\n",
    "    return np.array(char_list)\n",
    "\n",
    "def peak_id_to_numpy(pid):\n",
    "    seq = dict_seq[pid]\n",
    "    return seq_to_numpy(seq)"
   ]
  },
  {
   "cell_type": "code",
   "execution_count": 5,
   "metadata": {},
   "outputs": [],
   "source": [
    "l_X1 = [ peak_id_to_numpy(x) for x in l_peaks ]\n",
    "\n",
    "NP_seq_0 = np.array(l_X1, dtype=np.int8)\n",
    "NP_seq_1 = np.flip(NP_seq_0, (1,2))\n",
    "\n",
    "NP_seq = np.concatenate( [NP_seq_0, NP_seq_1] )"
   ]
  },
  {
   "cell_type": "markdown",
   "metadata": {},
   "source": [
    "## Writing X1, X2, Ys and IDs"
   ]
  },
  {
   "cell_type": "code",
   "execution_count": 18,
   "metadata": {
    "scrolled": true
   },
   "outputs": [
    {
     "name": "stdout",
     "output_type": "stream",
     "text": [
      "Writing X1:seq x 1000bp = (882970, 1000, 4)\n"
     ]
    }
   ],
   "source": [
    "print('Writing X1:seq x 1000bp =', NP_seq.shape)"
   ]
  },
  {
   "cell_type": "code",
   "execution_count": 10,
   "metadata": {},
   "outputs": [],
   "source": [
    "with gz.open('TR_DATA/data_X1.pkl.gz', 'wb') as f:\n",
    "    pkl.dump(NP_seq, f)"
   ]
  },
  {
   "cell_type": "code",
   "execution_count": 19,
   "metadata": {
    "scrolled": true
   },
   "outputs": [
    {
     "name": "stdout",
     "output_type": "stream",
     "text": [
      "Writing X2:genes x cells = (12817, 102)\n"
     ]
    }
   ],
   "source": [
    "print('Writing X2:genes x cells =', np_X2.shape)"
   ]
  },
  {
   "cell_type": "code",
   "execution_count": 20,
   "metadata": {},
   "outputs": [],
   "source": [
    "with gz.open('TR_DATA/data_X2.pkl.gz', 'wb') as f:\n",
    "    pkl.dump(np_X2, f)"
   ]
  },
  {
   "cell_type": "code",
   "execution_count": 21,
   "metadata": {
    "scrolled": true
   },
   "outputs": [
    {
     "name": "stdout",
     "output_type": "stream",
     "text": [
      "Writing Ys:seq x cells x # of features = (441485, 102, 2)\n"
     ]
    }
   ],
   "source": [
    "print('Writing Ys:seq x cells x # of features =', np_Ys.shape)"
   ]
  },
  {
   "cell_type": "code",
   "execution_count": 22,
   "metadata": {},
   "outputs": [],
   "source": [
    "with gz.open('TR_DATA/data_Ys.pkl.gz', 'wb') as f:\n",
    "    pkl.dump(np_Ys, f)"
   ]
  },
  {
   "cell_type": "code",
   "execution_count": 27,
   "metadata": {},
   "outputs": [
    {
     "name": "stdout",
     "output_type": "stream",
     "text": [
      "Writing cells = 102\n"
     ]
    }
   ],
   "source": [
    "print('Writing cells =', len(l_cells) )"
   ]
  },
  {
   "cell_type": "code",
   "execution_count": 28,
   "metadata": {},
   "outputs": [],
   "source": [
    "with gz.open('TR_DATA/id_cells.pkl.gz', 'wb') as f:\n",
    "    pkl.dump(l_cells, f)"
   ]
  },
  {
   "cell_type": "code",
   "execution_count": 29,
   "metadata": {},
   "outputs": [
    {
     "name": "stdout",
     "output_type": "stream",
     "text": [
      "Writing genes = 12817\n"
     ]
    }
   ],
   "source": [
    "print('Writing genes =', len(l_genes) )"
   ]
  },
  {
   "cell_type": "code",
   "execution_count": 30,
   "metadata": {},
   "outputs": [],
   "source": [
    "with gz.open('TR_DATA/id_genes.pkl.gz', 'wb') as f:\n",
    "    pkl.dump(l_genes, f)"
   ]
  },
  {
   "cell_type": "code",
   "execution_count": 31,
   "metadata": {},
   "outputs": [
    {
     "name": "stdout",
     "output_type": "stream",
     "text": [
      "Writing peaks = 441485\n"
     ]
    }
   ],
   "source": [
    "print('Writing peaks =', len(l_peaks) )"
   ]
  },
  {
   "cell_type": "code",
   "execution_count": 32,
   "metadata": {},
   "outputs": [],
   "source": [
    "with gz.open('TR_DATA/id_peaks.pkl.gz', 'wb') as f:\n",
    "    pkl.dump(l_peaks, f)"
   ]
  },
  {
   "cell_type": "code",
   "execution_count": null,
   "metadata": {},
   "outputs": [],
   "source": []
  },
  {
   "cell_type": "code",
   "execution_count": null,
   "metadata": {},
   "outputs": [],
   "source": []
  }
 ],
 "metadata": {
  "kernelspec": {
   "display_name": "Python 3",
   "language": "python",
   "name": "python3"
  },
  "language_info": {
   "codemirror_mode": {
    "name": "ipython",
    "version": 3
   },
   "file_extension": ".py",
   "mimetype": "text/x-python",
   "name": "python",
   "nbconvert_exporter": "python",
   "pygments_lexer": "ipython3",
   "version": "3.7.5"
  }
 },
 "nbformat": 4,
 "nbformat_minor": 2
}
