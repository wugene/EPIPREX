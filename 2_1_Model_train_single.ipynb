{
 "cells": [
  {
   "cell_type": "code",
   "execution_count": 1,
   "metadata": {},
   "outputs": [],
   "source": [
    "from __future__ import absolute_import, division, print_function, unicode_literals\n",
    "\n",
    "import numpy as np\n",
    "import tensorflow as tf\n",
    "import pandas as pd\n",
    "import seaborn as sns\n",
    "import matplotlib.pyplot as plt\n",
    "\n",
    "import pgzip as gz\n",
    "import _pickle as pkl\n",
    "import gc\n",
    "\n",
    "import pandas as pd"
   ]
  },
  {
   "cell_type": "code",
   "execution_count": 2,
   "metadata": {},
   "outputs": [],
   "source": [
    "from tensorflow.keras.layers import Dense, Dropout, Conv1D, Conv2D, MaxPool1D, Flatten"
   ]
  },
  {
   "cell_type": "markdown",
   "metadata": {},
   "source": [
    "## X1: Seq, X2: Gene, Y: Peak"
   ]
  },
  {
   "cell_type": "code",
   "execution_count": 3,
   "metadata": {},
   "outputs": [],
   "source": [
    "with gz.open('TR_DATA/data_X1.pkl.gz') as f:\n",
    "    NP_seq = pkl.load(f)"
   ]
  },
  {
   "cell_type": "code",
   "execution_count": 4,
   "metadata": {},
   "outputs": [],
   "source": [
    "with gz.open('TR_DATA/data_X2_enc.pkl.gz') as f:\n",
    "    NP_gene = pkl.load(f)"
   ]
  },
  {
   "cell_type": "code",
   "execution_count": 5,
   "metadata": {},
   "outputs": [],
   "source": [
    "with gz.open('TR_DATA/data_Ys.pkl.gz') as f:\n",
    "    NP_peak = pkl.load(f)"
   ]
  },
  {
   "cell_type": "code",
   "execution_count": 6,
   "metadata": {},
   "outputs": [],
   "source": [
    "TR_X1_SEQ = NP_seq.astype('float32')\n",
    "TR_X2_GENE = NP_gene.astype('float32')\n",
    "TR_Y_PEAK = NP_peak.astype('float32')\n",
    "\n",
    "TR_Y_ZERO = (TR_Y_PEAK < 0.1).astype('float32')\n",
    "\n",
    "TR_Y_W0_0 = 1/(TR_Y_ZERO.mean(axis=0, keepdims=True) + 0.01) + 0.01\n",
    "TR_Y_W1_0 = 1/(TR_Y_ZERO.mean(axis=1, keepdims=True) + 0.01) + 0.01\n",
    "TR_Y_W0_1 = 1/(1-1/TR_Y_W0_0)\n",
    "TR_Y_W1_1 = 1/(1-1/TR_Y_W1_0)"
   ]
  },
  {
   "cell_type": "markdown",
   "metadata": {},
   "source": [
    "## Make model "
   ]
  },
  {
   "cell_type": "code",
   "execution_count": 7,
   "metadata": {},
   "outputs": [],
   "source": [
    "def set_random_seed(name):\n",
    "\n",
    "    import hashlib\n",
    "    seed_sha = int(hashlib.sha256(model_id.encode('utf-8')).hexdigest(), 16) % 1000000\n",
    "\n",
    "    np.random.seed(seed_sha)\n",
    "    tf.random.set_seed(seed_sha+1)"
   ]
  },
  {
   "cell_type": "code",
   "execution_count": 8,
   "metadata": {},
   "outputs": [],
   "source": [
    "model_id = 'model_scmnt_1211'\n",
    "set_random_seed(model_id)"
   ]
  },
  {
   "cell_type": "code",
   "execution_count": 9,
   "metadata": {},
   "outputs": [],
   "source": [
    "batch_size = 1024\n",
    "epochs = 200\n",
    "learning_rate = 3e-3"
   ]
  },
  {
   "cell_type": "code",
   "execution_count": 10,
   "metadata": {},
   "outputs": [],
   "source": [
    "size_latent = 10\n",
    "size_gene_input = TR_X2_GENE.shape[1]\n",
    "size_output = 1#TR_Y_PEAK.shape[2]"
   ]
  },
  {
   "cell_type": "code",
   "execution_count": 11,
   "metadata": {},
   "outputs": [],
   "source": [
    "class DenseLayers(tf.keras.layers.Layer):\n",
    "    def __init__(self, layer_params):\n",
    "        super(DenseLayers, self).__init__()\n",
    "        \n",
    "        L_layer = list()\n",
    "   \n",
    "        for x in layer_params:\n",
    "            if x<1:\n",
    "                l1 = Dropout(rate=x)\n",
    "            else:\n",
    "                l1 = Dense( x, activation=tf.nn.relu, kernel_initializer='GlorotNormal')\n",
    "            L_layer.append( l1 )\n",
    "\n",
    "        self.hidden_layer = L_layer\n",
    "\n",
    "    def call(self, input_features):\n",
    "        x = input_features\n",
    "        for l1 in self.hidden_layer:\n",
    "            x = l1(x)\n",
    "        return x"
   ]
  },
  {
   "cell_type": "code",
   "execution_count": 12,
   "metadata": {},
   "outputs": [],
   "source": [
    "class ConvLayers(tf.keras.layers.Layer):\n",
    "    def __init__(self, layer_params):\n",
    "        super(ConvLayers, self).__init__()\n",
    "        \n",
    "        L_layer = list()\n",
    "   \n",
    "        for x in layer_params:\n",
    "            if len(x)==2:\n",
    "                n_kern, s_kern = x\n",
    "                l1  = Conv1D( n_kern, s_kern, activation='relu', kernel_initializer='GlorotNormal')\n",
    "            else:\n",
    "                n_pool = x[0]\n",
    "                l1 = MaxPool1D( n_pool )\n",
    "\n",
    "            L_layer.append( l1 )\n",
    "\n",
    "        self.hidden_layer = L_layer\n",
    "\n",
    "    def call(self, input_features):\n",
    "        x = input_features\n",
    "        for l1 in self.hidden_layer:\n",
    "            x = l1(x)\n",
    "        return x"
   ]
  },
  {
   "cell_type": "code",
   "execution_count": 13,
   "metadata": {},
   "outputs": [],
   "source": [
    "def act_relu1(x):\n",
    "    r = tf.minimum(tf.maximum(x, 0), 1)\n",
    "    return r"
   ]
  },
  {
   "cell_type": "code",
   "execution_count": 14,
   "metadata": {},
   "outputs": [],
   "source": [
    "class zScoreLayer(tf.keras.layers.Layer):\n",
    "    def call(self, a):\n",
    "        σ = tf.math.reduce_std (a, axis=0, keepdims=True)\n",
    "        μ = tf.math.reduce_mean(a, axis=0, keepdims=True)\n",
    "        return (a-μ)/σ"
   ]
  },
  {
   "cell_type": "code",
   "execution_count": 15,
   "metadata": {},
   "outputs": [],
   "source": [
    "class SeqEncoder(tf.keras.layers.Layer):\n",
    "    def __init__(self):\n",
    "        super(SeqEncoder, self).__init__()\n",
    "\n",
    "        layer_params_conv = [(256, 11),    (128,  1),    [99],\n",
    "                             (128,  1),    [10] ]\n",
    "        \n",
    "        self.conv_layers = ConvLayers(layer_params_conv)\n",
    "        self.flatten_layer = Flatten()\n",
    "\n",
    "        layer_params_dense = [ 0.1, 256, 0.1 ]\n",
    "\n",
    "        self.dense_layers = DenseLayers(layer_params_dense)\n",
    "        self.output_layer = Dense( size_latent, activation=act_relu1, kernel_initializer='GlorotNormal' )\n",
    "        \n",
    "    def call(self, input_features):\n",
    "        x = self.conv_layers(input_features)\n",
    "        x = self.flatten_layer(x)\n",
    "        x = self.dense_layers(x)\n",
    "        return self.output_layer(x)"
   ]
  },
  {
   "cell_type": "code",
   "execution_count": 16,
   "metadata": {},
   "outputs": [],
   "source": [
    "class GeneEnc2(tf.keras.layers.Layer):\n",
    "    def __init__(self):\n",
    "        super(GeneEnc2, self).__init__()\n",
    "\n",
    "        layer_params = [0.4, 32,\n",
    "                        0.1]\n",
    "         \n",
    "        self.hidden_layer = DenseLayers(layer_params)\n",
    "        self.output_layer = Dense( size_latent, activation=tf.nn.sigmoid, kernel_initializer='GlorotNormal' )\n",
    "        self.normal_layer = zScoreLayer()\n",
    "        \n",
    "    def call(self, input_features):\n",
    "        x = self.hidden_layer(input_features)\n",
    "        x = self.output_layer(x)\n",
    "        return self.normal_layer(x)"
   ]
  },
  {
   "cell_type": "code",
   "execution_count": 17,
   "metadata": {},
   "outputs": [],
   "source": [
    "class GeneDec2(tf.keras.layers.Layer):\n",
    "    def __init__(self):\n",
    "        super(GeneDec2, self).__init__()\n",
    "\n",
    "        layer_params = [64, 64]\n",
    "        \n",
    "        self.hidden_layer = DenseLayers(layer_params)\n",
    "        self.output_layer = Dense( size_gene_input, activation=tf.nn.sigmoid, kernel_initializer='GlorotNormal' )\n",
    "        self.normal_layer = zScoreLayer()\n",
    "        \n",
    "    def call(self, input_features):\n",
    "        x = self.hidden_layer(input_features)\n",
    "        x = self.output_layer(x)\n",
    "        return self.normal_layer(x)"
   ]
  },
  {
   "cell_type": "code",
   "execution_count": 18,
   "metadata": {},
   "outputs": [],
   "source": [
    "class dotLayer(tf.keras.layers.Layer):\n",
    "    def __init__(self):\n",
    "        super(dotLayer, self).__init__()\n",
    "        self.conv2d = Conv2D(1, 1, activation=act_relu1, kernel_initializer='GlorotNormal' )\n",
    "        self.weight_mask = tf.Variable( tf.random.uniform( (1, size_latent, size_output) ), trainable=True)\n",
    "        \n",
    "    def call(self, a, b):\n",
    "        # a = peaks x latent\n",
    "        # b = cells x latent\n",
    "        \n",
    "        bw = tf.multiply( self.weight_mask, tf.expand_dims(b, 2) )\n",
    "        c = tf.tensordot( a, bw, axes=[[1],[1]])\n",
    "        c_dimex = tf.expand_dims(c, -1)\n",
    "        c_conv = self.conv2d(c_dimex)\n",
    "        #print(c_conv.shape)\n",
    "        c_sq = tf.squeeze(c_conv, 2)\n",
    "        #print(c_sq.shape)\n",
    "        return c_sq"
   ]
  },
  {
   "cell_type": "code",
   "execution_count": 19,
   "metadata": {},
   "outputs": [],
   "source": [
    "class MergeingModel(tf.keras.Model):\n",
    "    def __init__(self):\n",
    "        super(MergeingModel, self).__init__()\n",
    "        self.seq_enc = SeqEncoder()\n",
    "        self.gene_enc = GeneEnc2()\n",
    "        self.dotlayer = dotLayer()\n",
    "        #self.gene_dec = GeneDec2()\n",
    "\n",
    "    def call(self, seq_batch, gene_batch):\n",
    "        seq_encoded  = self.seq_enc(seq_batch)\n",
    "        gene_encoded = self.gene_enc(gene_batch)\n",
    "        pred_peak    = self.dotlayer(seq_encoded, gene_encoded)\n",
    "        return pred_peak\n",
    "    \n",
    "    @tf.function\n",
    "    def gene_encoded(self, gene_batch):\n",
    "        encoded = self.gene_enc(gene_batch)\n",
    "        return encoded\n",
    "    \n",
    "    #def gene_decoded(self, gene_batch):\n",
    "    #    encoded = self.gene_enc(gene_batch)\n",
    "    #    decoded = self.gene_dec(gene_batch)\n",
    "    #    return decoded"
   ]
  },
  {
   "cell_type": "code",
   "execution_count": 20,
   "metadata": {},
   "outputs": [],
   "source": [
    "def loss_seq(model, dataset, data_x2, w0_01 ):\n",
    "    \n",
    "    x, y, w1_0, w1_1 = dataset\n",
    "    w0_0, w0_1 = w0_01\n",
    "    y_bar = model(x, data_x2)\n",
    "    #print( y_bar.shape )\n",
    "\n",
    "    zeros = tf.cast(y<0.1, tf.float32)\n",
    "    weight0 = (w1_0 + w0_0) * zeros\n",
    "    weight1 = (w1_1 + w0_1) * (1-zeros)\n",
    "\n",
    "    sse0 = tf.math.reduce_mean( tf.math.square(y_bar)   * weight0 )\n",
    "    sse1 = tf.math.reduce_mean( tf.math.square(y_bar-y) * weight1 )\n",
    "    \n",
    "    return sse0, sse1\n",
    "\n",
    "#def loss_ae(model, data_x2 ):\n",
    "#    \n",
    "#    y_bar = model.gene_decoded(data_x2)\n",
    "#    \n",
    "#    sse_ae = tf.math.reduce_mean( tf.math.square(y_bar - data_x2) )\n",
    "#    \n",
    "#    return sse_ae\n",
    "\n",
    "def loss(model, dataset, data_x2, w0_01 ):\n",
    "    l0, l1 = loss_seq(model, dataset, data_x2, w0_01 )\n",
    "    #l2 = loss_ae(model, data_x2 )\n",
    "    return (l0 + l1)/2   #return l1*0.9+l2*0.1\n",
    "\n",
    "def train(loss, model, opt, dataset, data_x2, w0_01 ):\n",
    "    with tf.GradientTape() as tape:\n",
    "        gradients = tape.gradient( loss( model, dataset, data_x2, w0_01 ), model.trainable_variables)\n",
    "    gradient_variables = zip(gradients, model.trainable_variables)\n",
    "    opt.apply_gradients(gradient_variables)"
   ]
  },
  {
   "cell_type": "markdown",
   "metadata": {},
   "source": [
    "## Make batch and train class0"
   ]
  },
  {
   "cell_type": "code",
   "execution_count": 21,
   "metadata": {},
   "outputs": [],
   "source": [
    "TF_X1 = tf.data.Dataset.from_tensor_slices(TR_X1_SEQ)\n",
    "TF_X2 = tf.constant(TR_X2_GENE)"
   ]
  },
  {
   "cell_type": "code",
   "execution_count": 22,
   "metadata": {},
   "outputs": [],
   "source": [
    "TF_Y  = tf.data.Dataset.from_tensor_slices(TR_Y_PEAK[:,:,0:1])\n",
    "TF_W1_0 = tf.data.Dataset.from_tensor_slices(TR_Y_W1_0[:,:,0:1])\n",
    "TF_W1_1 = tf.data.Dataset.from_tensor_slices(TR_Y_W1_1[:,:,0:1])\n",
    "TR_Y_W0_01 = ( TR_Y_W0_0[:,:,0:1], TR_Y_W0_1[:,:,0:1])\n",
    "\n",
    "training_dataset = tf.data.Dataset.zip( (TF_X1, TF_Y, TF_W1_0, TF_W1_1) )\n",
    "training_dataset = training_dataset.batch( batch_size )\n",
    "training_dataset = training_dataset.shuffle( TR_X1_SEQ.shape[0] )\n",
    "training_dataset = training_dataset.prefetch( batch_size * 4 )"
   ]
  },
  {
   "cell_type": "code",
   "execution_count": 23,
   "metadata": {},
   "outputs": [],
   "source": [
    "merged_model = MergeingModel()\n",
    "l_loss = list()\n",
    "opt = tf.optimizers.Adamax(learning_rate=learning_rate)"
   ]
  },
  {
   "cell_type": "code",
   "execution_count": 24,
   "metadata": {
    "scrolled": true
   },
   "outputs": [
    {
     "name": "stdout",
     "output_type": "stream",
     "text": [
      "Epoch 0/200 [0.34843823 0.9283065 ]\n",
      "Epoch 1/200 [0.38175625 0.81176156]\n",
      "Epoch 2/200 [0.38128248 0.81144977]\n",
      "Epoch 3/200 [0.39002743 0.78546286]\n",
      "Epoch 4/200 [0.39091656 0.7820335 ]\n",
      "Epoch 5/200 [0.39076898 0.78177035]\n",
      "Epoch 6/200 [0.3905737 0.7819163]\n",
      "Epoch 7/200 [0.39433178 0.7682504 ]\n",
      "Epoch 8/200 [0.44621703 0.59590524]\n",
      "Epoch 9/200 [0.48432082 0.50211394]\n",
      "Epoch 10/200 [0.48307872 0.5026222 ]\n",
      "Epoch 11/200 [0.48211727 0.5028112 ]\n",
      "Epoch 12/200 [0.48190418 0.50236386]\n",
      "Epoch 13/200 [0.48152202 0.50255895]\n",
      "Epoch 14/200 [0.48126787 0.50243354]\n",
      "Epoch 15/200 [0.48128173 0.5020772 ]\n",
      "Epoch 16/200 [0.48083103 0.5019922 ]\n",
      "Epoch 17/200 [0.48080394 0.502146  ]\n",
      "Epoch 18/200 [0.4804543 0.5021717]\n",
      "Epoch 19/200 [0.48046818 0.5017767 ]\n",
      "Epoch 20/200 [0.48049393 0.5016004 ]\n",
      "Epoch 21/200 [0.47994348 0.50182265]\n",
      "Epoch 22/200 [0.48031628 0.5011412 ]\n",
      "Epoch 23/200 [0.47980136 0.50145364]\n",
      "Epoch 24/200 [0.4799049 0.5011481]\n",
      "Epoch 25/200 [0.479678 0.501109]\n",
      "Epoch 26/200 [0.479717   0.50101745]\n",
      "Epoch 27/200 [0.47979686 0.50083107]\n",
      "Epoch 28/200 [0.47959065 0.5006886 ]\n",
      "Epoch 29/200 [0.4794273  0.50050944]\n",
      "Epoch 30/200 [0.4792631 0.500665 ]\n",
      "Epoch 31/200 [0.4791987  0.50062156]\n",
      "Epoch 32/200 [0.47944894 0.50003636]\n",
      "Epoch 33/200 [0.4788924  0.50036716]\n",
      "Epoch 34/200 [0.47921455 0.50005776]\n",
      "Epoch 35/200 [0.47889522 0.5001256 ]\n",
      "Epoch 36/200 [0.4789761  0.49995324]\n",
      "Epoch 37/200 [0.47870186 0.50016797]\n",
      "Epoch 38/200 [0.47914296 0.49967283]\n",
      "Epoch 39/200 [0.47895923 0.4994924 ]\n",
      "Epoch 40/200 [0.4788317  0.49963996]\n",
      "Epoch 41/200 [0.47894785 0.4994913 ]\n",
      "Epoch 42/200 [0.47881216 0.49944693]\n",
      "Epoch 43/200 [0.47844434 0.49955386]\n",
      "Epoch 44/200 [0.47884446 0.4990866 ]\n",
      "Epoch 45/200 [0.4785502 0.4991186]\n",
      "Epoch 46/200 [0.47843966 0.49917635]\n",
      "Epoch 47/200 [0.47849524 0.4990947 ]\n",
      "Epoch 48/200 [0.47863963 0.49872145]\n",
      "Epoch 49/200 [0.47831765 0.49887556]\n",
      "Epoch 50/200 [0.47855076 0.49859473]\n",
      "Epoch 51/200 [0.47834048 0.498741  ]\n",
      "Epoch 52/200 [0.4783179  0.49869144]\n",
      "Epoch 53/200 [0.4783308 0.4985847]\n",
      "Epoch 54/200 [0.47820747 0.49861553]\n",
      "Epoch 55/200 [0.47828898 0.49850085]\n",
      "Epoch 56/200 [0.47802302 0.49847928]\n",
      "Epoch 57/200 [0.4781322  0.49831071]\n",
      "Epoch 58/200 [0.4782185  0.49813697]\n",
      "Epoch 59/200 [0.47795245 0.4982802 ]\n",
      "Epoch 60/200 [0.4781733 0.4979482]\n",
      "Epoch 61/200 [0.4778358 0.4984417]\n",
      "Epoch 62/200 [0.47821888 0.49782655]\n",
      "Epoch 63/200 [0.47776905 0.49805   ]\n",
      "Epoch 64/200 [0.47793186 0.49772874]\n",
      "Epoch 65/200 [0.4779138 0.4980534]\n",
      "Epoch 66/200 [0.47786242 0.49774078]\n",
      "Epoch 67/200 [0.47785747 0.4976975 ]\n",
      "Epoch 68/200 [0.4777029 0.4979212]\n",
      "Epoch 69/200 [0.47778904 0.49756107]\n",
      "Epoch 70/200 [0.4779351  0.49742043]\n",
      "Epoch 71/200 [0.4777222 0.4974117]\n",
      "Epoch 72/200 [0.47774914 0.4976257 ]\n",
      "Epoch 73/200 [0.4778036  0.49720725]\n",
      "Epoch 74/200 [0.47770157 0.49718395]\n",
      "Epoch 75/200 [0.4775809  0.49748066]\n",
      "Epoch 76/200 [0.47756866 0.497164  ]\n",
      "Epoch 77/200 [0.4775379  0.49736145]\n",
      "Epoch 78/200 [0.4775747  0.49729866]\n",
      "Epoch 79/200 [0.4775493 0.4972358]\n",
      "Epoch 80/200 [0.47699523 0.49760836]\n",
      "Epoch 81/200 [0.47814238 0.49616244]\n",
      "Epoch 82/200 [0.47813278 0.49609083]\n",
      "Epoch 83/200 [0.47835428 0.4957585 ]\n",
      "Epoch 84/200 [0.4783629 0.4954262]\n",
      "Epoch 85/200 [0.48131293 0.48942962]\n",
      "Epoch 86/200 [0.48058695 0.48933977]\n",
      "Epoch 87/200 [0.48066097 0.48933223]\n",
      "Epoch 88/200 [0.48061928 0.489189  ]\n",
      "Epoch 89/200 [0.48030397 0.4893887 ]\n",
      "Epoch 90/200 [0.4804981 0.4891357]\n",
      "Epoch 91/200 [0.4801523  0.48944038]\n",
      "Epoch 92/200 [0.48043525 0.48903504]\n",
      "Epoch 93/200 [0.48030245 0.48931488]\n",
      "Epoch 94/200 [0.48044753 0.48893642]\n",
      "Epoch 95/200 [0.480115   0.48916912]\n",
      "Epoch 96/200 [0.48023346 0.4890123 ]\n",
      "Epoch 97/200 [0.48031926 0.48874423]\n",
      "Epoch 98/200 [0.4801351  0.48909792]\n",
      "Epoch 99/200 [0.48023105 0.4888777 ]\n",
      "Epoch 100/200 [0.47993377 0.4889607 ]\n",
      "Epoch 101/200 [0.48035544 0.48857996]\n",
      "Epoch 102/200 [0.48000666 0.48893058]\n",
      "Epoch 103/200 [0.48011717 0.48869088]\n",
      "Epoch 104/200 [0.48027533 0.48863328]\n",
      "Epoch 105/200 [0.4802154 0.4887157]\n",
      "Epoch 106/200 [0.480071   0.48878866]\n",
      "Epoch 107/200 [0.48010594 0.4886226 ]\n",
      "Epoch 108/200 [0.4801363  0.48864362]\n",
      "Epoch 109/200 [0.48025784 0.4883798 ]\n",
      "Epoch 110/200 [0.47999588 0.48862594]\n",
      "Epoch 111/200 [0.48010978 0.48848248]\n",
      "Epoch 112/200 [0.48004004 0.48847964]\n",
      "Epoch 113/200 [0.4800503  0.48834515]\n",
      "Epoch 114/200 [0.47993165 0.48862413]\n",
      "Epoch 115/200 [0.48008895 0.4882366 ]\n",
      "Epoch 116/200 [0.4800169 0.4884521]\n",
      "Epoch 117/200 [0.4799265 0.4882875]\n",
      "Epoch 118/200 [0.47992557 0.4883852 ]\n",
      "Epoch 119/200 [0.48025137 0.48806027]\n",
      "Epoch 120/200 [0.47990248 0.48810533]\n",
      "Epoch 121/200 [0.48004803 0.48815876]\n",
      "Epoch 122/200 [0.47978342 0.48810437]\n",
      "Epoch 123/200 [0.47995076 0.48807913]\n",
      "Epoch 124/200 [0.47991118 0.48790246]\n",
      "Epoch 125/200 [0.47968566 0.48823953]\n",
      "Epoch 126/200 [0.47989687 0.48791623]\n",
      "Epoch 127/200 [0.48026377 0.48765907]\n",
      "Epoch 128/200 [0.47969422 0.48804733]\n",
      "Epoch 129/200 [0.48003367 0.4878404 ]\n",
      "Epoch 130/200 [0.47974265 0.48795918]\n",
      "Epoch 131/200 [0.47990113 0.4877569 ]\n",
      "Epoch 132/200 [0.47981727 0.48796043]\n",
      "Epoch 133/200 [0.47969162 0.48796785]\n",
      "Epoch 134/200 [0.48012587 0.4875574 ]\n",
      "Epoch 135/200 [0.47990906 0.48765457]\n",
      "Epoch 136/200 [0.47979566 0.48784906]\n",
      "Epoch 137/200 [0.4798785  0.48764157]\n",
      "Epoch 138/200 [0.47971043 0.48779425]\n",
      "Epoch 139/200 [0.47982395 0.48764625]\n",
      "Epoch 140/200 [0.47983053 0.48753226]\n",
      "Epoch 141/200 [0.47974068 0.4877365 ]\n",
      "Epoch 142/200 [0.47989193 0.48752907]\n",
      "Epoch 143/200 [0.47956386 0.48776335]\n",
      "Epoch 144/200 [0.4798389 0.4874814]\n",
      "Epoch 145/200 [0.4798704  0.48750272]\n",
      "Epoch 146/200 [0.47962597 0.48784104]\n",
      "Epoch 147/200 [0.4800052  0.48725563]\n",
      "Epoch 148/200 [0.47972772 0.48748425]\n",
      "Epoch 149/200 [0.47958958 0.48760906]\n",
      "Epoch 150/200 [0.47981414 0.4873711 ]\n",
      "Epoch 151/200 [0.47983697 0.48737893]\n",
      "Epoch 152/200 [0.47961727 0.48744664]\n",
      "Epoch 153/200 [0.47972348 0.48720863]\n",
      "Epoch 154/200 [0.4797359  0.48735657]\n",
      "Epoch 155/200 [0.4794844  0.48753268]\n",
      "Epoch 156/200 [0.47977692 0.48715112]\n",
      "Epoch 157/200 [0.4796641  0.48735774]\n",
      "Epoch 158/200 [0.47981587 0.48710802]\n",
      "Epoch 159/200 [0.47945347 0.4874931 ]\n",
      "Epoch 160/200 [0.47987854 0.4871343 ]\n",
      "Epoch 161/200 [0.479602   0.48723406]\n",
      "Epoch 162/200 [0.47958875 0.48728058]\n",
      "Epoch 163/200 [0.47972924 0.48722702]\n",
      "Epoch 164/200 [0.4796131  0.48720872]\n",
      "Epoch 165/200 [0.479782   0.48699784]\n",
      "Epoch 166/200 [0.4796716  0.48703477]\n",
      "Epoch 167/200 [0.47950977 0.4872607 ]\n",
      "Epoch 168/200 [0.479792  0.4870275]\n",
      "Epoch 169/200 [0.47959754 0.48717308]\n",
      "Epoch 170/200 [0.4796276  0.48701397]\n",
      "Epoch 171/200 [0.47960147 0.48710364]\n",
      "Epoch 172/200 [0.47967085 0.4869808 ]\n",
      "Epoch 173/200 [0.47967255 0.48699355]\n",
      "Epoch 174/200 [0.47961766 0.48699415]\n",
      "Epoch 175/200 [0.4796123  0.48693004]\n",
      "Epoch 176/200 [0.47948492 0.4869459 ]\n",
      "Epoch 177/200 [0.47970998 0.4868833 ]\n",
      "Epoch 178/200 [0.47968078 0.48679987]\n",
      "Epoch 179/200 [0.4795634  0.48715016]\n",
      "Epoch 180/200 [0.47962525 0.48703188]\n",
      "Epoch 181/200 [0.4796091 0.4867654]\n",
      "Epoch 182/200 [0.4794956  0.48684925]\n",
      "Epoch 183/200 [0.47953698 0.486894  ]\n",
      "Epoch 184/200 [0.47955438 0.4868755 ]\n",
      "Epoch 185/200 [0.47973078 0.48664474]\n",
      "Epoch 186/200 [0.47943395 0.48697057]\n",
      "Epoch 187/200 [0.47970644 0.48650378]\n",
      "Epoch 188/200 [0.4794519  0.48692858]\n",
      "Epoch 189/200 [0.47956008 0.4866507 ]\n",
      "Epoch 190/200 [0.47952455 0.48675525]\n",
      "Epoch 191/200 [0.47964132 0.48657587]\n",
      "Epoch 192/200 [0.47972217 0.4865359 ]\n",
      "Epoch 193/200 [0.47943166 0.4866552 ]\n",
      "Epoch 194/200 [0.479393  0.4868149]\n",
      "Epoch 195/200 [0.47958872 0.48675597]\n",
      "Epoch 196/200 [0.4795195  0.48669702]\n",
      "Epoch 197/200 [0.47969547 0.48645386]\n",
      "Epoch 198/200 [0.47953427 0.4865585 ]\n",
      "Epoch 199/200 [0.47947857 0.4865662 ]\n"
     ]
    }
   ],
   "source": [
    "starting_epoch = len(l_loss)\n",
    "for epoch in range(starting_epoch, epochs):\n",
    "       \n",
    "    epoch_loss = list()\n",
    "    for step, batch_features in enumerate(training_dataset):\n",
    "        train( loss, merged_model, opt, batch_features, TF_X2, TR_Y_W0_01 )\n",
    "        loss_values = loss_seq( merged_model, batch_features, TF_X2, TR_Y_W0_01 )\n",
    " \n",
    "        epoch_loss.append( loss_values )\n",
    "    \n",
    "    if epoch==0:\n",
    "        epoch0_loss = epoch_loss\n",
    "\n",
    "    loss_s01 = np.mean( np.array( epoch_loss ), axis=0 )\n",
    "    l_loss.append( loss_s01 ) #np.float( loss_ae(merged_model, TF_X2)), ) )\n",
    "    print('Epoch %d/%d' %(epoch, epochs), loss_s01)"
   ]
  },
  {
   "cell_type": "code",
   "execution_count": 25,
   "metadata": {},
   "outputs": [
    {
     "data": {
      "text/plain": [
       "<matplotlib.axes._subplots.AxesSubplot at 0x7f280949ced0>"
      ]
     },
     "execution_count": 25,
     "metadata": {},
     "output_type": "execute_result"
    },
    {
     "data": {
      "image/png": "[encoded data removed]",
      "text/plain": [
       "<Figure size 432x288 with 1 Axes>"
      ]
     },
     "metadata": {
      "needs_background": "light"
     },
     "output_type": "display_data"
    }
   ],
   "source": [
    "pd.DataFrame(np.array(epoch0_loss)).plot(logx=True)"
   ]
  },
  {
   "cell_type": "code",
   "execution_count": 26,
   "metadata": {},
   "outputs": [
    {
     "data": {
      "text/plain": [
       "<matplotlib.axes._subplots.AxesSubplot at 0x7f2808efcf50>"
      ]
     },
     "execution_count": 26,
     "metadata": {},
     "output_type": "execute_result"
    },
    {
     "data": {
      "image/png": "[encoded data removed]",
      "text/plain": [
       "<Figure size 432x288 with 1 Axes>"
      ]
     },
     "metadata": {
      "needs_background": "light"
     },
     "output_type": "display_data"
    }
   ],
   "source": [
    "pd.DataFrame(np.array(l_loss)).plot(logx=True)"
   ]
  },
  {
   "cell_type": "code",
   "execution_count": 27,
   "metadata": {},
   "outputs": [],
   "source": [
    "with gz.open('OUTPUT/loss_c0.pkl.gz', 'wb') as f:\n",
    "    pkl.dump((epoch0_loss, l_loss), f)"
   ]
  },
  {
   "cell_type": "code",
   "execution_count": 28,
   "metadata": {},
   "outputs": [],
   "source": [
    "gene_encoded10 = np.array(merged_model.gene_enc(TR_X2_GENE))"
   ]
  },
  {
   "cell_type": "code",
   "execution_count": 29,
   "metadata": {
    "scrolled": true
   },
   "outputs": [],
   "source": [
    "with gz.open('OUTPUT/gene_c0_enc.pkl.gz', 'wb') as f:\n",
    "    pkl.dump(gene_encoded10, f)"
   ]
  },
  {
   "cell_type": "code",
   "execution_count": 30,
   "metadata": {},
   "outputs": [
    {
     "data": {
      "text/plain": [
       "<matplotlib.axes._subplots.AxesSubplot at 0x7f2808c75c10>"
      ]
     },
     "execution_count": 30,
     "metadata": {},
     "output_type": "execute_result"
    },
    {
     "data": {
      "image/png": "[encoded data removed]",
      "text/plain": [
       "<Figure size 432x288 with 1 Axes>"
      ]
     },
     "metadata": {
      "needs_background": "light"
     },
     "output_type": "display_data"
    }
   ],
   "source": [
    "sns.distplot(gene_encoded10.flatten())"
   ]
  },
  {
   "cell_type": "code",
   "execution_count": 31,
   "metadata": {},
   "outputs": [
    {
     "data": {
      "text/plain": [
       "3641"
      ]
     },
     "execution_count": 31,
     "metadata": {},
     "output_type": "execute_result"
    }
   ],
   "source": [
    "total_len = len(TR_X1_SEQ)\n",
    "L_pred = list()\n",
    "\n",
    "for x_id in range(0, total_len, 1000):\n",
    "    TR_1 = TR_X1_SEQ[x_id:x_id+1000]\n",
    "\n",
    "    pred = merged_model(TR_1, TR_X2_GENE)\n",
    "    NP_pred = np.array(pred, dtype=np.float16)\n",
    "    \n",
    "    L_pred.append(NP_pred)\n",
    "\n",
    "NP_imputed = np.concatenate(L_pred)\n",
    "del L_pred\n",
    "gc.collect()"
   ]
  },
  {
   "cell_type": "code",
   "execution_count": 32,
   "metadata": {},
   "outputs": [
    {
     "data": {
      "text/plain": [
       "(882970, 102, 1)"
      ]
     },
     "execution_count": 32,
     "metadata": {},
     "output_type": "execute_result"
    }
   ],
   "source": [
    "NP_imputed.shape"
   ]
  },
  {
   "cell_type": "code",
   "execution_count": 33,
   "metadata": {},
   "outputs": [],
   "source": [
    "NP_Nucl = NP_imputed[:,:,0]\n",
    "pd.DataFrame(NP_Nucl).to_csv('OUTPUT/pred_c0_score_nucl.tsv', sep='\\t', header=None, index=None)"
   ]
  },
  {
   "cell_type": "code",
   "execution_count": 34,
   "metadata": {},
   "outputs": [],
   "source": [
    "Y_Nucl = TR_Y_PEAK[:,:,0]\n",
    "pd.DataFrame(Y_Nucl).to_csv('OUTPUT/peak_c0_nucl.tsv', sep='\\t', header=None, index=None)"
   ]
  },
  {
   "cell_type": "markdown",
   "metadata": {},
   "source": [
    "## Make batch and train class1"
   ]
  },
  {
   "cell_type": "code",
   "execution_count": 35,
   "metadata": {},
   "outputs": [],
   "source": [
    "TF_X1 = tf.data.Dataset.from_tensor_slices(TR_X1_SEQ)\n",
    "TF_X2 = tf.constant(TR_X2_GENE)"
   ]
  },
  {
   "cell_type": "code",
   "execution_count": 36,
   "metadata": {},
   "outputs": [],
   "source": [
    "TF_Y  = tf.data.Dataset.from_tensor_slices(TR_Y_PEAK[:,:,1:2])\n",
    "TF_W1_0 = tf.data.Dataset.from_tensor_slices(TR_Y_W1_0[:,:,1:2])\n",
    "TF_W1_1 = tf.data.Dataset.from_tensor_slices(TR_Y_W1_1[:,:,1:2])\n",
    "TR_Y_W0_01 = ( TR_Y_W0_0[:,:,1:2], TR_Y_W0_1[:,:,1:2])\n",
    "\n",
    "training_dataset = tf.data.Dataset.zip( (TF_X1, TF_Y, TF_W1_0, TF_W1_1) )\n",
    "training_dataset = training_dataset.batch( batch_size )\n",
    "training_dataset = training_dataset.shuffle( TR_X1_SEQ.shape[0] )\n",
    "training_dataset = training_dataset.prefetch( batch_size * 4 )"
   ]
  },
  {
   "cell_type": "code",
   "execution_count": 37,
   "metadata": {},
   "outputs": [],
   "source": [
    "merged_model = MergeingModel()\n",
    "l_loss = list()\n",
    "opt = tf.optimizers.Adamax(learning_rate=learning_rate)"
   ]
  },
  {
   "cell_type": "code",
   "execution_count": 38,
   "metadata": {
    "scrolled": true
   },
   "outputs": [
    {
     "name": "stdout",
     "output_type": "stream",
     "text": [
      "Epoch 0/200 [0.37101337 0.8683885 ]\n",
      "Epoch 1/200 [0.44048634 0.66591465]\n",
      "Epoch 2/200 [0.44036314 0.66572297]\n",
      "Epoch 3/200 [0.44018787 0.6658829 ]\n",
      "Epoch 4/200 [0.4408691 0.6651104]\n",
      "Epoch 5/200 [0.4404286 0.6654605]\n",
      "Epoch 6/200 [0.4406034  0.66530013]\n",
      "Epoch 7/200 [0.44059843 0.66528744]\n",
      "Epoch 8/200 [0.44071102 0.66517425]\n",
      "Epoch 9/200 [0.44051874 0.6654003 ]\n",
      "Epoch 10/200 [0.44065186 0.66522723]\n",
      "Epoch 11/200 [0.44083634 0.6650565 ]\n",
      "Epoch 12/200 [0.44058183 0.6652378 ]\n",
      "Epoch 13/200 [0.44066834 0.6651497 ]\n",
      "Epoch 14/200 [0.44033292 0.66549826]\n",
      "Epoch 15/200 [0.44101888 0.66477585]\n",
      "Epoch 16/200 [0.44034517 0.6654372 ]\n",
      "Epoch 17/200 [0.44116634 0.6646421 ]\n",
      "Epoch 18/200 [0.44070905 0.6650351 ]\n",
      "Epoch 19/200 [0.44065726 0.66521364]\n",
      "Epoch 20/200 [0.44083092 0.6648977 ]\n",
      "Epoch 21/200 [0.44067046 0.6650653 ]\n",
      "Epoch 22/200 [0.4425398  0.65985525]\n",
      "Epoch 23/200 [0.4456323  0.65140224]\n",
      "Epoch 24/200 [0.4493961 0.641597 ]\n",
      "Epoch 25/200 [0.44860494 0.64238805]\n",
      "Epoch 26/200 [0.44902194 0.64191806]\n",
      "Epoch 27/200 [0.44873902 0.6421981 ]\n",
      "Epoch 28/200 [0.44913116 0.64179385]\n",
      "Epoch 29/200 [0.44904783 0.64190793]\n",
      "Epoch 30/200 [0.44856897 0.6423264 ]\n",
      "Epoch 31/200 [0.44944513 0.64147425]\n",
      "Epoch 32/200 [0.44880232 0.6421551 ]\n",
      "Epoch 33/200 [0.44881117 0.64209664]\n",
      "Epoch 34/200 [0.44896656 0.6419158 ]\n",
      "Epoch 35/200 [0.44877854 0.64211226]\n",
      "Epoch 36/200 [0.4490923 0.6417648]\n",
      "Epoch 37/200 [0.4488727 0.6420143]\n",
      "Epoch 38/200 [0.44855213 0.64238137]\n",
      "Epoch 39/200 [0.45481333 0.6215541 ]\n",
      "Epoch 40/200 [0.45563996 0.61913943]\n",
      "Epoch 41/200 [0.45505643 0.61978525]\n",
      "Epoch 42/200 [0.45523396 0.6195627 ]\n",
      "Epoch 43/200 [0.4555109 0.6192776]\n",
      "Epoch 44/200 [0.4554708  0.61933684]\n",
      "Epoch 45/200 [0.45514393 0.61961937]\n",
      "Epoch 46/200 [0.45559424 0.61920804]\n",
      "Epoch 47/200 [0.45532373 0.6194689 ]\n",
      "Epoch 48/200 [0.4552599  0.61953455]\n",
      "Epoch 49/200 [0.45535037 0.6194444 ]\n",
      "Epoch 50/200 [0.4554791  0.61933625]\n",
      "Epoch 51/200 [0.45531043 0.6194739 ]\n",
      "Epoch 52/200 [0.45740277 0.61261183]\n",
      "Epoch 53/200 [0.45995235 0.60415655]\n",
      "Epoch 54/200 [0.46051633 0.603574  ]\n",
      "Epoch 55/200 [0.46059477 0.60345864]\n",
      "Epoch 56/200 [0.46069616 0.6033561 ]\n",
      "Epoch 57/200 [0.4609285 0.6031099]\n",
      "Epoch 58/200 [0.46043643 0.60363543]\n",
      "Epoch 59/200 [0.4603613  0.60372645]\n",
      "Epoch 60/200 [0.4604504  0.60360044]\n",
      "Epoch 61/200 [0.46056098 0.60353196]\n",
      "Epoch 62/200 [0.46055865 0.6034779 ]\n",
      "Epoch 63/200 [0.46035  0.603702]\n",
      "Epoch 64/200 [0.4604277  0.60360503]\n",
      "Epoch 65/200 [0.46097767 0.6030521 ]\n",
      "Epoch 66/200 [0.46056333 0.6035088 ]\n",
      "Epoch 67/200 [0.4603129 0.6037312]\n",
      "Epoch 68/200 [0.46049792 0.60358745]\n",
      "Epoch 69/200 [0.4607626 0.6033111]\n",
      "Epoch 70/200 [0.4602775  0.60374707]\n",
      "Epoch 71/200 [0.4601439  0.60387146]\n",
      "Epoch 72/200 [0.46121243 0.60283726]\n",
      "Epoch 73/200 [0.4606214 0.6034295]\n",
      "Epoch 74/200 [0.46011811 0.6039121 ]\n",
      "Epoch 75/200 [0.46074378 0.60329443]\n",
      "Epoch 76/200 [0.46086624 0.6031648 ]\n",
      "Epoch 77/200 [0.4597212 0.6043275]\n",
      "Epoch 78/200 [0.4608839 0.603162 ]\n",
      "Epoch 79/200 [0.46062195 0.60342556]\n",
      "Epoch 80/200 [0.46069616 0.6033492 ]\n",
      "Epoch 81/200 [0.46103427 0.6029723 ]\n",
      "Epoch 82/200 [0.45992032 0.60413975]\n",
      "Epoch 83/200 [0.4608911 0.6031118]\n",
      "Epoch 84/200 [0.4602438 0.603766 ]\n",
      "Epoch 85/200 [0.46074107 0.6032884 ]\n",
      "Epoch 86/200 [0.46060908 0.603424  ]\n",
      "Epoch 87/200 [0.4605665 0.603407 ]\n",
      "Epoch 88/200 [0.4599465  0.60405195]\n",
      "Epoch 89/200 [0.46083748 0.6031917 ]\n",
      "Epoch 90/200 [0.46091774 0.6030767 ]\n",
      "Epoch 91/200 [0.46004146 0.6039432 ]\n",
      "Epoch 92/200 [0.4606362 0.6034043]\n",
      "Epoch 93/200 [0.46067232 0.60332817]\n",
      "Epoch 94/200 [0.46030077 0.60369796]\n",
      "Epoch 95/200 [0.46052507 0.6034907 ]\n",
      "Epoch 96/200 [0.46066746 0.60330623]\n",
      "Epoch 97/200 [0.46025872 0.60373735]\n",
      "Epoch 98/200 [0.46083847 0.6031421 ]\n",
      "Epoch 99/200 [0.46074733 0.6032967 ]\n",
      "Epoch 100/200 [0.46061248 0.60338074]\n",
      "Epoch 101/200 [0.46057162 0.60342574]\n",
      "Epoch 102/200 [0.46035942 0.603617  ]\n",
      "Epoch 103/200 [0.4604399  0.60359025]\n",
      "Epoch 104/200 [0.46050173 0.60353696]\n",
      "Epoch 105/200 [0.4604712  0.60353017]\n",
      "Epoch 106/200 [0.4602707  0.60374254]\n",
      "Epoch 107/200 [0.46053684 0.6034477 ]\n",
      "Epoch 108/200 [0.46045205 0.60355955]\n",
      "Epoch 109/200 [0.460473   0.60350525]\n",
      "Epoch 110/200 [0.4607979  0.60323495]\n",
      "Epoch 111/200 [0.4601638  0.60381085]\n",
      "Epoch 112/200 [0.4609719 0.6030272]\n",
      "Epoch 113/200 [0.45993975 0.6040547 ]\n",
      "Epoch 114/200 [0.46112588 0.60289675]\n",
      "Epoch 115/200 [0.4603926  0.60360956]\n",
      "Epoch 116/200 [0.46094692 0.60304093]\n",
      "Epoch 117/200 [0.46025625 0.6037287 ]\n",
      "Epoch 118/200 [0.46039373 0.60360575]\n",
      "Epoch 119/200 [0.46030957 0.6036817 ]\n",
      "Epoch 120/200 [0.46069404 0.6033065 ]\n",
      "Epoch 121/200 [0.46043086 0.6035565 ]\n",
      "Epoch 122/200 [0.4604604 0.6035077]\n",
      "Epoch 123/200 [0.46052194 0.6034378 ]\n",
      "Epoch 124/200 [0.46105877 0.60291487]\n",
      "Epoch 125/200 [0.4598253 0.6041824]\n",
      "Epoch 126/200 [0.46072355 0.603254  ]\n",
      "Epoch 127/200 [0.46060643 0.60338336]\n",
      "Epoch 128/200 [0.46057335 0.6034114 ]\n",
      "Epoch 129/200 [0.4605337 0.6034375]\n",
      "Epoch 130/200 [0.460362   0.60359067]\n",
      "Epoch 131/200 [0.46067643 0.60330397]\n",
      "Epoch 132/200 [0.46032104 0.603666  ]\n",
      "Epoch 133/200 [0.46059874 0.60338855]\n",
      "Epoch 134/200 [0.4602451 0.6037429]\n",
      "Epoch 135/200 [0.46071145 0.6032711 ]\n",
      "Epoch 136/200 [0.46048924 0.6034969 ]\n",
      "Epoch 137/200 [0.46064746 0.6033477 ]\n",
      "Epoch 138/200 [0.46081802 0.6031662 ]\n",
      "Epoch 139/200 [0.46006837 0.6039125 ]\n",
      "Epoch 140/200 [0.46070373 0.6032769 ]\n",
      "Epoch 141/200 [0.4607529 0.6032443]\n",
      "Epoch 142/200 [0.46062687 0.60335165]\n",
      "Epoch 143/200 [0.4604976 0.6034905]\n",
      "Epoch 144/200 [0.46087757 0.60309863]\n",
      "Epoch 145/200 [0.45981827 0.60417396]\n",
      "Epoch 146/200 [0.4611723  0.60278994]\n",
      "Epoch 147/200 [0.45986828 0.6041153 ]\n",
      "Epoch 148/200 [0.4610403 0.6029297]\n",
      "Epoch 149/200 [0.4600213 0.6039517]\n",
      "Epoch 150/200 [0.46083388 0.6031478 ]\n",
      "Epoch 151/200 [0.4604819  0.60349965]\n",
      "Epoch 152/200 [0.46020293 0.6037788 ]\n",
      "Epoch 153/200 [0.46085104 0.60312146]\n",
      "Epoch 154/200 [0.46014628 0.60383344]\n",
      "Epoch 155/200 [0.46079966 0.60316724]\n",
      "Epoch 156/200 [0.46009824 0.6038703 ]\n",
      "Epoch 157/200 [0.46104118 0.6029105 ]\n",
      "Epoch 158/200 [0.46043032 0.6035455 ]\n",
      "Epoch 159/200 [0.46045557 0.6035213 ]\n",
      "Epoch 160/200 [0.46038496 0.6035993 ]\n",
      "Epoch 161/200 [0.46062207 0.6033458 ]\n",
      "Epoch 162/200 [0.46070126 0.60327905]\n",
      "Epoch 163/200 [0.4605407 0.6034472]\n",
      "Epoch 164/200 [0.4600503 0.6039285]\n",
      "Epoch 165/200 [0.46063635 0.60334194]\n",
      "Epoch 166/200 [0.460892  0.6030684]\n",
      "Epoch 167/200 [0.4606237  0.60337573]\n",
      "Epoch 168/200 [0.46072033 0.60322183]\n",
      "Epoch 169/200 [0.4599604 0.6039847]\n",
      "Epoch 170/200 [0.46066964 0.603284  ]\n",
      "Epoch 171/200 [0.46092337 0.60304767]\n",
      "Epoch 172/200 [0.45998573 0.603992  ]\n",
      "Epoch 173/200 [0.4607626  0.60324067]\n",
      "Epoch 174/200 [0.46028465 0.6036737 ]\n",
      "Epoch 175/200 [0.46110135 0.60286283]\n",
      "Epoch 176/200 [0.46063855 0.60333526]\n",
      "Epoch 177/200 [0.46011865 0.60385156]\n",
      "Epoch 178/200 [0.46058485 0.60338104]\n",
      "Epoch 179/200 [0.46079203 0.6031726 ]\n",
      "Epoch 180/200 [0.46062168 0.60334915]\n",
      "Epoch 181/200 [0.4601481  0.60381013]\n",
      "Epoch 182/200 [0.46092668 0.603037  ]\n",
      "Epoch 183/200 [0.4600166  0.60395104]\n",
      "Epoch 184/200 [0.4604512  0.60351604]\n",
      "Epoch 185/200 [0.4607742  0.60320216]\n",
      "Epoch 186/200 [0.4602555 0.60372  ]\n",
      "Epoch 187/200 [0.46062067 0.60334754]\n",
      "Epoch 188/200 [0.46056628 0.60339767]\n",
      "Epoch 189/200 [0.4605091  0.60347563]\n",
      "Epoch 190/200 [0.46066365 0.60329205]\n",
      "Epoch 191/200 [0.46020237 0.6037677 ]\n",
      "Epoch 192/200 [0.46012518 0.60382545]\n",
      "Epoch 193/200 [0.46154153 0.6024296 ]\n",
      "Epoch 194/200 [0.4606311 0.6033172]\n",
      "Epoch 195/200 [0.4604591 0.603538 ]\n",
      "Epoch 196/200 [0.46023718 0.6037387 ]\n",
      "Epoch 197/200 [0.46060452 0.60334027]\n",
      "Epoch 198/200 [0.46036744 0.60360295]\n",
      "Epoch 199/200 [0.46068272 0.6032899 ]\n"
     ]
    }
   ],
   "source": [
    "starting_epoch = len(l_loss)\n",
    "for epoch in range(starting_epoch, epochs):\n",
    "       \n",
    "    epoch_loss = list()\n",
    "    for step, batch_features in enumerate(training_dataset):\n",
    "        train( loss, merged_model, opt, batch_features, TF_X2, TR_Y_W0_01 )\n",
    "        loss_values = loss_seq( merged_model, batch_features, TF_X2, TR_Y_W0_01 )\n",
    " \n",
    "        epoch_loss.append( loss_values )\n",
    "    \n",
    "    if epoch==0:\n",
    "        epoch0_loss = epoch_loss\n",
    "\n",
    "    loss_s01 = np.mean( np.array( epoch_loss ), axis=0 )\n",
    "    l_loss.append( loss_s01 ) #np.float( loss_ae(merged_model, TF_X2)), ) )\n",
    "    print('Epoch %d/%d' %(epoch, epochs), loss_s01)"
   ]
  },
  {
   "cell_type": "code",
   "execution_count": 39,
   "metadata": {},
   "outputs": [
    {
     "data": {
      "text/plain": [
       "<matplotlib.axes._subplots.AxesSubplot at 0x7f271046b710>"
      ]
     },
     "execution_count": 39,
     "metadata": {},
     "output_type": "execute_result"
    },
    {
     "data": {
      "image/png": "[encoded data removed]",
      "text/plain": [
       "<Figure size 432x288 with 1 Axes>"
      ]
     },
     "metadata": {
      "needs_background": "light"
     },
     "output_type": "display_data"
    }
   ],
   "source": [
    "pd.DataFrame(np.array(epoch0_loss)).plot(logx=True)"
   ]
  },
  {
   "cell_type": "code",
   "execution_count": 40,
   "metadata": {},
   "outputs": [
    {
     "data": {
      "text/plain": [
       "<matplotlib.axes._subplots.AxesSubplot at 0x7f2808ad4a10>"
      ]
     },
     "execution_count": 40,
     "metadata": {},
     "output_type": "execute_result"
    },
    {
     "data": {
      "image/png": "[encoded data removed]",
      "text/plain": [
       "<Figure size 432x288 with 1 Axes>"
      ]
     },
     "metadata": {
      "needs_background": "light"
     },
     "output_type": "display_data"
    }
   ],
   "source": [
    "pd.DataFrame(np.array(l_loss)).plot(logx=True)"
   ]
  },
  {
   "cell_type": "code",
   "execution_count": 41,
   "metadata": {},
   "outputs": [],
   "source": [
    "with gz.open('OUTPUT/loss_c1.pkl.gz', 'wb') as f:\n",
    "    pkl.dump((epoch0_loss, l_loss), f)"
   ]
  },
  {
   "cell_type": "code",
   "execution_count": 42,
   "metadata": {},
   "outputs": [],
   "source": [
    "gene_encoded10 = np.array(merged_model.gene_enc(TR_X2_GENE))"
   ]
  },
  {
   "cell_type": "code",
   "execution_count": 43,
   "metadata": {
    "scrolled": true
   },
   "outputs": [],
   "source": [
    "with gz.open('OUTPUT/gene_c1_enc.pkl.gz', 'wb') as f:\n",
    "    pkl.dump(gene_encoded10, f)"
   ]
  },
  {
   "cell_type": "code",
   "execution_count": 44,
   "metadata": {},
   "outputs": [
    {
     "data": {
      "text/plain": [
       "<matplotlib.axes._subplots.AxesSubplot at 0x7f28088de710>"
      ]
     },
     "execution_count": 44,
     "metadata": {},
     "output_type": "execute_result"
    },
    {
     "data": {
      "image/png": "[encoded data removed]",
      "text/plain": [
       "<Figure size 432x288 with 1 Axes>"
      ]
     },
     "metadata": {
      "needs_background": "light"
     },
     "output_type": "display_data"
    }
   ],
   "source": [
    "sns.distplot(gene_encoded10.flatten())"
   ]
  },
  {
   "cell_type": "code",
   "execution_count": 45,
   "metadata": {},
   "outputs": [
    {
     "data": {
      "text/plain": [
       "3522"
      ]
     },
     "execution_count": 45,
     "metadata": {},
     "output_type": "execute_result"
    }
   ],
   "source": [
    "total_len = len(TR_X1_SEQ)\n",
    "L_pred = list()\n",
    "\n",
    "for x_id in range(0, total_len, 1000):\n",
    "    TR_1 = TR_X1_SEQ[x_id:x_id+1000]\n",
    "\n",
    "    pred = merged_model(TR_1, TR_X2_GENE)\n",
    "    NP_pred = np.array(pred, dtype=np.float16)\n",
    "    \n",
    "    L_pred.append(NP_pred)\n",
    "\n",
    "NP_imputed = np.concatenate(L_pred)\n",
    "del L_pred\n",
    "gc.collect()"
   ]
  },
  {
   "cell_type": "code",
   "execution_count": 46,
   "metadata": {},
   "outputs": [
    {
     "data": {
      "text/plain": [
       "(882970, 102, 1)"
      ]
     },
     "execution_count": 46,
     "metadata": {},
     "output_type": "execute_result"
    }
   ],
   "source": [
    "NP_imputed.shape"
   ]
  },
  {
   "cell_type": "code",
   "execution_count": 47,
   "metadata": {},
   "outputs": [],
   "source": [
    "NP_Met = NP_imputed[:,:,0]\n",
    "pd.DataFrame(NP_Met).to_csv('OUTPUT/pred_c1_score_met.tsv', sep='\\t', header=None, index=None)"
   ]
  },
  {
   "cell_type": "code",
   "execution_count": 48,
   "metadata": {},
   "outputs": [],
   "source": [
    "Y_Met = TR_Y_PEAK[:,:,1]\n",
    "pd.DataFrame(Y_Met).to_csv('OUTPUT/peak_c1_met.tsv', sep='\\t', header=None, index=None)"
   ]
  },
  {
   "cell_type": "code",
   "execution_count": 49,
   "metadata": {},
   "outputs": [
    {
     "ename": "NameError",
     "evalue": "name 'Error' is not defined",
     "output_type": "error",
     "traceback": [
      "\u001b[0;31m---------------------------------------------------------------------------\u001b[0m",
      "\u001b[0;31mNameError\u001b[0m                                 Traceback (most recent call last)",
      "\u001b[0;32m<ipython-input-49-b9bb4ed40910>\u001b[0m in \u001b[0;36m<module>\u001b[0;34m\u001b[0m\n\u001b[0;32m----> 1\u001b[0;31m \u001b[0mError\u001b[0m\u001b[0;34m(\u001b[0m\u001b[0mError\u001b[0m\u001b[0;34m)\u001b[0m\u001b[0;34m\u001b[0m\u001b[0;34m\u001b[0m\u001b[0m\n\u001b[0m",
      "\u001b[0;31mNameError\u001b[0m: name 'Error' is not defined"
     ]
    }
   ],
   "source": [
    "Error(Error)"
   ]
  },
  {
   "cell_type": "code",
   "execution_count": null,
   "metadata": {},
   "outputs": [],
   "source": []
  }
 ],
 "metadata": {
  "kernelspec": {
   "display_name": "Python 3",
   "language": "python",
   "name": "python3"
  },
  "language_info": {
   "codemirror_mode": {
    "name": "ipython",
    "version": 3
   },
   "file_extension": ".py",
   "mimetype": "text/x-python",
   "name": "python",
   "nbconvert_exporter": "python",
   "pygments_lexer": "ipython3",
   "version": "3.7.5"
  }
 },
 "nbformat": 4,
 "nbformat_minor": 2
}
