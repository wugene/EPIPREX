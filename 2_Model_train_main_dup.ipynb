{
 "cells": [
  {
   "cell_type": "code",
   "execution_count": 1,
   "metadata": {},
   "outputs": [],
   "source": [
    "from __future__ import absolute_import, division, print_function, unicode_literals\n",
    "\n",
    "import numpy as np\n",
    "import tensorflow as tf\n",
    "import pandas as pd\n",
    "import seaborn as sns\n",
    "import matplotlib.pyplot as plt\n",
    "\n",
    "import pgzip as gz\n",
    "import _pickle as pkl\n",
    "import gc\n",
    "\n",
    "import pandas as pd"
   ]
  },
  {
   "cell_type": "code",
   "execution_count": 2,
   "metadata": {},
   "outputs": [],
   "source": [
    "from tensorflow.keras.layers import Dense, Dropout, Conv1D, Conv2D, MaxPool1D, Flatten"
   ]
  },
  {
   "cell_type": "markdown",
   "metadata": {},
   "source": [
    "## X1: Seq, X2: Gene, Y: Peak"
   ]
  },
  {
   "cell_type": "code",
   "execution_count": 3,
   "metadata": {},
   "outputs": [],
   "source": [
    "with gz.open('TR_DATA/data_X1.pkl.gz') as f:\n",
    "    NP_seq = pkl.load(f)"
   ]
  },
  {
   "cell_type": "code",
   "execution_count": 4,
   "metadata": {},
   "outputs": [],
   "source": [
    "with gz.open('TR_DATA/data_X2_enc.pkl.gz') as f:\n",
    "    NP_gene = pkl.load(f)"
   ]
  },
  {
   "cell_type": "code",
   "execution_count": 5,
   "metadata": {},
   "outputs": [],
   "source": [
    "with gz.open('TR_DATA/data_Ys.pkl.gz') as f:\n",
    "    NP_peak = pkl.load(f)"
   ]
  },
  {
   "cell_type": "code",
   "execution_count": 6,
   "metadata": {},
   "outputs": [],
   "source": [
    "TR_X1_SEQ = NP_seq.astype('float32')\n",
    "TR_X2_GENE = NP_gene.astype('float32')\n",
    "TR_Y_PEAK = NP_peak.astype('float32')\n",
    "\n",
    "TR_Y_ZERO = (TR_Y_PEAK < 0.1).astype('float32')\n",
    "\n",
    "TR_Y_W0_0 = 1/(TR_Y_ZERO.mean(axis=0, keepdims=True) + 0.01) + 0.01\n",
    "TR_Y_W1_0 = 1/(TR_Y_ZERO.mean(axis=1, keepdims=True) + 0.01) + 0.01\n",
    "TR_Y_W0_1 = 1/(1-1/TR_Y_W0_0)\n",
    "TR_Y_W1_1 = 1/(1-1/TR_Y_W1_0)"
   ]
  },
  {
   "cell_type": "markdown",
   "metadata": {},
   "source": [
    "## Make model "
   ]
  },
  {
   "cell_type": "code",
   "execution_count": 7,
   "metadata": {},
   "outputs": [],
   "source": [
    "def set_random_seed(name):\n",
    "\n",
    "    import hashlib\n",
    "    seed_sha = int(hashlib.sha256(model_id.encode('utf-8')).hexdigest(), 16) % 1000000\n",
    "\n",
    "    np.random.seed(seed_sha)\n",
    "    tf.random.set_seed(seed_sha+1)"
   ]
  },
  {
   "cell_type": "code",
   "execution_count": 8,
   "metadata": {},
   "outputs": [],
   "source": [
    "model_id = 'model_scmnt_1111'\n",
    "set_random_seed(model_id)"
   ]
  },
  {
   "cell_type": "code",
   "execution_count": 9,
   "metadata": {},
   "outputs": [],
   "source": [
    "batch_size = 1024\n",
    "epochs = 200\n",
    "learning_rate = 3e-3"
   ]
  },
  {
   "cell_type": "code",
   "execution_count": 10,
   "metadata": {},
   "outputs": [],
   "source": [
    "size_latent = 10\n",
    "size_gene_input = TR_X2_GENE.shape[1]\n",
    "size_output = TR_Y_PEAK.shape[2]"
   ]
  },
  {
   "cell_type": "code",
   "execution_count": 11,
   "metadata": {},
   "outputs": [],
   "source": [
    "class DenseLayers(tf.keras.layers.Layer):\n",
    "    def __init__(self, layer_params):\n",
    "        super(DenseLayers, self).__init__()\n",
    "        \n",
    "        L_layer = list()\n",
    "   \n",
    "        for x in layer_params:\n",
    "            if x<1:\n",
    "                l1 = Dropout(rate=x)\n",
    "            else:\n",
    "                l1 = Dense( x, activation=tf.nn.relu, kernel_initializer='GlorotNormal')\n",
    "            L_layer.append( l1 )\n",
    "\n",
    "        self.hidden_layer = L_layer\n",
    "\n",
    "    def call(self, input_features):\n",
    "        x = input_features\n",
    "        for l1 in self.hidden_layer:\n",
    "            x = l1(x)\n",
    "        return x"
   ]
  },
  {
   "cell_type": "code",
   "execution_count": 12,
   "metadata": {},
   "outputs": [],
   "source": [
    "class ConvLayers(tf.keras.layers.Layer):\n",
    "    def __init__(self, layer_params):\n",
    "        super(ConvLayers, self).__init__()\n",
    "        \n",
    "        L_layer = list()\n",
    "   \n",
    "        for x in layer_params:\n",
    "            if len(x)==2:\n",
    "                n_kern, s_kern = x\n",
    "                l1  = Conv1D( n_kern, s_kern, activation='relu', kernel_initializer='GlorotNormal')\n",
    "            else:\n",
    "                n_pool = x[0]\n",
    "                l1 = MaxPool1D( n_pool )\n",
    "\n",
    "            L_layer.append( l1 )\n",
    "\n",
    "        self.hidden_layer = L_layer\n",
    "\n",
    "    def call(self, input_features):\n",
    "        x = input_features\n",
    "        for l1 in self.hidden_layer:\n",
    "            x = l1(x)\n",
    "        return x"
   ]
  },
  {
   "cell_type": "code",
   "execution_count": 13,
   "metadata": {},
   "outputs": [],
   "source": [
    "def act_relu1(x):\n",
    "    r = tf.minimum(tf.maximum(x, 0), 1)\n",
    "    return r"
   ]
  },
  {
   "cell_type": "code",
   "execution_count": 14,
   "metadata": {},
   "outputs": [],
   "source": [
    "class zScoreLayer(tf.keras.layers.Layer):\n",
    "    def call(self, a):\n",
    "        σ = tf.math.reduce_std (a, axis=0, keepdims=True)\n",
    "        μ = tf.math.reduce_mean(a, axis=0, keepdims=True)\n",
    "        return (a-μ)/σ"
   ]
  },
  {
   "cell_type": "code",
   "execution_count": 15,
   "metadata": {},
   "outputs": [],
   "source": [
    "class SeqEncoder(tf.keras.layers.Layer):\n",
    "    def __init__(self):\n",
    "        super(SeqEncoder, self).__init__()\n",
    "\n",
    "        layer_params_conv = [(256, 11),    (128,  1),    [99],\n",
    "                             (128,  1),    [10] ]\n",
    "        \n",
    "        self.conv_layers = ConvLayers(layer_params_conv)\n",
    "        self.flatten_layer = Flatten()\n",
    "\n",
    "        layer_params_dense = [ 0.1, 256, 0.1 ]\n",
    "\n",
    "        self.dense_layers = DenseLayers(layer_params_dense)\n",
    "        self.output_layer = Dense( size_latent, activation=act_relu1, kernel_initializer='GlorotNormal' )\n",
    "        \n",
    "    def call(self, input_features):\n",
    "        x = self.conv_layers(input_features)\n",
    "        x = self.flatten_layer(x)\n",
    "        x = self.dense_layers(x)\n",
    "        return self.output_layer(x)"
   ]
  },
  {
   "cell_type": "code",
   "execution_count": 16,
   "metadata": {},
   "outputs": [],
   "source": [
    "class GeneEnc2(tf.keras.layers.Layer):\n",
    "    def __init__(self):\n",
    "        super(GeneEnc2, self).__init__()\n",
    "\n",
    "        layer_params = [0.4, 32,\n",
    "                        0.1]\n",
    "         \n",
    "        self.hidden_layer = DenseLayers(layer_params)\n",
    "        self.output_layer = Dense( size_latent, activation=tf.nn.sigmoid, kernel_initializer='GlorotNormal' )\n",
    "        self.normal_layer = zScoreLayer()\n",
    "        \n",
    "    def call(self, input_features):\n",
    "        x = self.hidden_layer(input_features)\n",
    "        x = self.output_layer(x)\n",
    "        return self.normal_layer(x)"
   ]
  },
  {
   "cell_type": "code",
   "execution_count": 17,
   "metadata": {},
   "outputs": [],
   "source": [
    "class GeneDec2(tf.keras.layers.Layer):\n",
    "    def __init__(self):\n",
    "        super(GeneDec2, self).__init__()\n",
    "\n",
    "        layer_params = [64, 64]\n",
    "        \n",
    "        self.hidden_layer = DenseLayers(layer_params)\n",
    "        self.output_layer = Dense( size_gene_input, activation=tf.nn.sigmoid, kernel_initializer='GlorotNormal' )\n",
    "        self.normal_layer = zScoreLayer()\n",
    "        \n",
    "    def call(self, input_features):\n",
    "        x = self.hidden_layer(input_features)\n",
    "        x = self.output_layer(x)\n",
    "        return self.normal_layer(x)"
   ]
  },
  {
   "cell_type": "code",
   "execution_count": 18,
   "metadata": {},
   "outputs": [],
   "source": [
    "class dotLayer(tf.keras.layers.Layer):\n",
    "    def __init__(self):\n",
    "        super(dotLayer, self).__init__()\n",
    "        self.conv2d = Conv2D(1, 1, activation=act_relu1, kernel_initializer='GlorotNormal' )\n",
    "        self.weight_mask = tf.Variable( tf.random.uniform( (1, size_latent, size_output) ), trainable=True)\n",
    "        \n",
    "    def call(self, a, b):\n",
    "        # a = peaks x latent\n",
    "        # b = cells x latent\n",
    "        \n",
    "        bw = tf.multiply( self.weight_mask, tf.expand_dims(b, 2) )\n",
    "        c = tf.tensordot( a, bw, axes=[[1],[1]])\n",
    "        c_dimex = tf.expand_dims(c, -1)\n",
    "        c_conv = self.conv2d(c_dimex)\n",
    "        c_sq = tf.squeeze(c_conv)\n",
    "        return c_sq"
   ]
  },
  {
   "cell_type": "code",
   "execution_count": 19,
   "metadata": {},
   "outputs": [],
   "source": [
    "class MergeingModel(tf.keras.Model):\n",
    "    def __init__(self):\n",
    "        super(MergeingModel, self).__init__()\n",
    "        self.seq_enc = SeqEncoder()\n",
    "        self.gene_enc = GeneEnc2()\n",
    "        self.dotlayer = dotLayer()\n",
    "        #self.gene_dec = GeneDec2()\n",
    "\n",
    "    def call(self, seq_batch, gene_batch):\n",
    "        seq_encoded  = self.seq_enc(seq_batch)\n",
    "        gene_encoded = self.gene_enc(gene_batch)\n",
    "        pred_peak    = self.dotlayer(seq_encoded, gene_encoded)\n",
    "        return pred_peak\n",
    "    \n",
    "    @tf.function\n",
    "    def gene_encoded(self, gene_batch):\n",
    "        encoded = self.gene_enc(gene_batch)\n",
    "        return encoded\n",
    "    \n",
    "    #def gene_decoded(self, gene_batch):\n",
    "    #    encoded = self.gene_enc(gene_batch)\n",
    "    #    decoded = self.gene_dec(gene_batch)\n",
    "    #    return decoded"
   ]
  },
  {
   "cell_type": "code",
   "execution_count": 20,
   "metadata": {},
   "outputs": [],
   "source": [
    "def loss_seq(model, dataset, data_x2 ):\n",
    "    \n",
    "    x, y, w1_0, w1_1 = dataset\n",
    "    y_bar = model(x, data_x2)\n",
    "    #print( y_bar.shape )\n",
    "\n",
    "    zeros = tf.cast(y<0.1, tf.float32)\n",
    "    weight0 = (w1_0 + TR_Y_W0_0) * zeros\n",
    "    weight1 = (w1_1 + TR_Y_W0_1) * (1-zeros)\n",
    "\n",
    "    sse0 = tf.math.reduce_mean( tf.math.square(y_bar)   * weight0 )\n",
    "    sse1 = tf.math.reduce_mean( tf.math.square(y_bar-y) * weight1 )\n",
    "    \n",
    "    return sse0, sse1\n",
    "\n",
    "#def loss_ae(model, data_x2 ):\n",
    "#    \n",
    "#    y_bar = model.gene_decoded(data_x2)\n",
    "#    \n",
    "#    sse_ae = tf.math.reduce_mean( tf.math.square(y_bar - data_x2) )\n",
    "#    \n",
    "#    return sse_ae\n",
    "\n",
    "def loss(model, dataset, data_x2 ):\n",
    "    l0, l1 = loss_seq(model, dataset, data_x2 )\n",
    "    #l2 = loss_ae(model, data_x2 )\n",
    "    return (l0 + l1)/2   #return l1*0.9+l2*0.1\n",
    "\n",
    "def train(loss, model, opt, dataset, data_x2 ):\n",
    "    with tf.GradientTape() as tape:\n",
    "        gradients = tape.gradient( loss( model, dataset, data_x2 ), model.trainable_variables)\n",
    "    gradient_variables = zip(gradients, model.trainable_variables)\n",
    "    opt.apply_gradients(gradient_variables)"
   ]
  },
  {
   "cell_type": "markdown",
   "metadata": {},
   "source": [
    "## Make batch and train"
   ]
  },
  {
   "cell_type": "code",
   "execution_count": 21,
   "metadata": {},
   "outputs": [],
   "source": [
    "TF_X1 = tf.data.Dataset.from_tensor_slices(TR_X1_SEQ)\n",
    "TF_X2 = tf.constant(TR_X2_GENE)"
   ]
  },
  {
   "cell_type": "code",
   "execution_count": 22,
   "metadata": {},
   "outputs": [],
   "source": [
    "TF_Y  = tf.data.Dataset.from_tensor_slices(TR_Y_PEAK)\n",
    "TF_W1_0 = tf.data.Dataset.from_tensor_slices(TR_Y_W1_0)\n",
    "TF_W1_1 = tf.data.Dataset.from_tensor_slices(TR_Y_W1_1)\n",
    "\n",
    "training_dataset = tf.data.Dataset.zip( (TF_X1, TF_Y, TF_W1_0, TF_W1_1) )\n",
    "training_dataset = training_dataset.batch( batch_size )\n",
    "training_dataset = training_dataset.shuffle( TR_X1_SEQ.shape[0] )\n",
    "training_dataset = training_dataset.prefetch( batch_size * 4 )"
   ]
  },
  {
   "cell_type": "code",
   "execution_count": 23,
   "metadata": {},
   "outputs": [],
   "source": [
    "merged_model = MergeingModel()\n",
    "l_loss = list()\n",
    "opt = tf.optimizers.Adamax(learning_rate=learning_rate)"
   ]
  },
  {
   "cell_type": "code",
   "execution_count": 24,
   "metadata": {
    "scrolled": true
   },
   "outputs": [
    {
     "name": "stdout",
     "output_type": "stream",
     "text": [
      "Epoch 0/200 [0.37244132 0.8755114 ]\n",
      "Epoch 1/200 [0.41188198 0.73274434]\n",
      "Epoch 2/200 [0.42606094 0.68646866]\n",
      "Epoch 3/200 [0.4457121 0.6277728]\n",
      "Epoch 4/200 [0.4584627  0.58961916]\n",
      "Epoch 5/200 [0.458394   0.58898985]\n",
      "Epoch 6/200 [0.45804194 0.5888264 ]\n",
      "Epoch 7/200 [0.45770913 0.5882304 ]\n",
      "Epoch 8/200 [0.45752656 0.587844  ]\n",
      "Epoch 9/200 [0.45713258 0.58803886]\n",
      "Epoch 10/200 [0.45735583 0.58756244]\n",
      "Epoch 11/200 [0.45723847 0.5873822 ]\n",
      "Epoch 12/200 [0.45712227 0.58708024]\n",
      "Epoch 13/200 [0.45705754 0.58717   ]\n",
      "Epoch 14/200 [0.45678896 0.587222  ]\n",
      "Epoch 15/200 [0.45672783 0.5870999 ]\n",
      "Epoch 16/200 [0.45657447 0.5868363 ]\n",
      "Epoch 17/200 [0.45639205 0.5867493 ]\n",
      "Epoch 18/200 [0.45608902 0.5871898 ]\n",
      "Epoch 19/200 [0.45648614 0.58648247]\n",
      "Epoch 20/200 [0.45607045 0.58662385]\n",
      "Epoch 21/200 [0.45616016 0.5860436 ]\n",
      "Epoch 22/200 [0.45565984 0.5864961 ]\n",
      "Epoch 23/200 [0.45592257 0.5859049 ]\n",
      "Epoch 24/200 [0.45570758 0.58614814]\n",
      "Epoch 25/200 [0.45543268 0.58613193]\n",
      "Epoch 26/200 [0.45537204 0.58577317]\n",
      "Epoch 27/200 [0.4551548  0.58569825]\n",
      "Epoch 28/200 [0.45509887 0.5854594 ]\n",
      "Epoch 29/200 [0.45500267 0.58539724]\n",
      "Epoch 30/200 [0.4550804 0.5853652]\n",
      "Epoch 31/200 [0.45494702 0.58486456]\n",
      "Epoch 32/200 [0.4548732 0.5847056]\n",
      "Epoch 33/200 [0.45485502 0.58481723]\n",
      "Epoch 34/200 [0.45456502 0.5846179 ]\n",
      "Epoch 35/200 [0.45464668 0.58445674]\n",
      "Epoch 36/200 [0.45444056 0.5844226 ]\n",
      "Epoch 37/200 [0.45450637 0.58433765]\n",
      "Epoch 38/200 [0.45460603 0.5844331 ]\n",
      "Epoch 39/200 [0.45439035 0.58410823]\n",
      "Epoch 40/200 [0.4543824 0.5839074]\n",
      "Epoch 41/200 [0.45444334 0.5839036 ]\n",
      "Epoch 42/200 [0.4541207 0.5839399]\n",
      "Epoch 43/200 [0.45428598 0.5837829 ]\n",
      "Epoch 44/200 [0.45424247 0.58396596]\n",
      "Epoch 45/200 [0.45418903 0.5835649 ]\n",
      "Epoch 46/200 [0.45421034 0.58338755]\n",
      "Epoch 47/200 [0.4537852 0.5834655]\n",
      "Epoch 48/200 [0.4542547  0.58317477]\n",
      "Epoch 49/200 [0.4538608 0.5832188]\n",
      "Epoch 50/200 [0.45398775 0.5831902 ]\n",
      "Epoch 51/200 [0.45397627 0.583057  ]\n",
      "Epoch 52/200 [0.4538261  0.58322996]\n",
      "Epoch 53/200 [0.4537211 0.5830157]\n",
      "Epoch 54/200 [0.45399228 0.58273846]\n",
      "Epoch 55/200 [0.45355135 0.58270633]\n",
      "Epoch 56/200 [0.45348892 0.58306533]\n",
      "Epoch 57/200 [0.45384136 0.582395  ]\n",
      "Epoch 58/200 [0.45371342 0.58279806]\n",
      "Epoch 59/200 [0.45353597 0.58253044]\n",
      "Epoch 60/200 [0.45416382 0.5752207 ]\n",
      "Epoch 61/200 [0.4703987 0.5240802]\n",
      "Epoch 62/200 [0.4913821  0.49154952]\n",
      "Epoch 63/200 [0.49187165 0.48959908]\n",
      "Epoch 64/200 [0.4910801 0.4895972]\n",
      "Epoch 65/200 [0.49064824 0.489557  ]\n",
      "Epoch 66/200 [0.49034703 0.4893842 ]\n",
      "Epoch 67/200 [0.49075928 0.48881412]\n",
      "Epoch 68/200 [0.4901322  0.48912835]\n",
      "Epoch 69/200 [0.49011597 0.4890349 ]\n",
      "Epoch 70/200 [0.48964328 0.48915726]\n",
      "Epoch 71/200 [0.4897125  0.48905352]\n",
      "Epoch 72/200 [0.48962635 0.48877952]\n",
      "Epoch 73/200 [0.4898962  0.48864383]\n",
      "Epoch 74/200 [0.48936504 0.48889464]\n",
      "Epoch 75/200 [0.48924527 0.4887627 ]\n",
      "Epoch 76/200 [0.48949814 0.48830006]\n",
      "Epoch 77/200 [0.48916152 0.4887729 ]\n",
      "Epoch 78/200 [0.48907703 0.48845947]\n",
      "Epoch 79/200 [0.48918197 0.48846442]\n",
      "Epoch 80/200 [0.48911852 0.48840603]\n",
      "Epoch 81/200 [0.48866144 0.48872295]\n",
      "Epoch 82/200 [0.48932356 0.48796728]\n",
      "Epoch 83/200 [0.4888534 0.4882386]\n",
      "Epoch 84/200 [0.48885494 0.4881867 ]\n",
      "Epoch 85/200 [0.48879647 0.4883485 ]\n",
      "Epoch 86/200 [0.48877642 0.4881544 ]\n",
      "Epoch 87/200 [0.4887365  0.48823306]\n",
      "Epoch 88/200 [0.4890126 0.4878184]\n",
      "Epoch 89/200 [0.48821232 0.48843166]\n",
      "Epoch 90/200 [0.48903492 0.48750192]\n",
      "Epoch 91/200 [0.48865104 0.4878345 ]\n",
      "Epoch 92/200 [0.48837164 0.4880692 ]\n",
      "Epoch 93/200 [0.48824963 0.48809814]\n",
      "Epoch 94/200 [0.48883757 0.48734957]\n",
      "Epoch 95/200 [0.48865515 0.4874304 ]\n",
      "Epoch 96/200 [0.48834118 0.4876819 ]\n",
      "Epoch 97/200 [0.48846015 0.4875919 ]\n",
      "Epoch 98/200 [0.4883637  0.48743185]\n",
      "Epoch 99/200 [0.4881805  0.48733488]\n",
      "Epoch 100/200 [0.48825413 0.48729303]\n",
      "Epoch 101/200 [0.4880596  0.48743117]\n",
      "Epoch 102/200 [0.48855278 0.48694968]\n",
      "Epoch 103/200 [0.4886458  0.48696256]\n",
      "Epoch 104/200 [0.48816645 0.48715046]\n",
      "Epoch 105/200 [0.4875798 0.4876642]\n",
      "Epoch 106/200 [0.4884538  0.48675922]\n",
      "Epoch 107/200 [0.48827556 0.486866  ]\n",
      "Epoch 108/200 [0.4880345 0.4869699]\n",
      "Epoch 109/200 [0.48777434 0.48721611]\n",
      "Epoch 110/200 [0.4884931  0.48629242]\n",
      "Epoch 111/200 [0.4880709  0.48669282]\n",
      "Epoch 112/200 [0.48830876 0.48655733]\n",
      "Epoch 113/200 [0.48789236 0.48682424]\n",
      "Epoch 114/200 [0.4879974  0.48661974]\n",
      "Epoch 115/200 [0.48815483 0.4862989 ]\n",
      "Epoch 116/200 [0.48797897 0.48653647]\n",
      "Epoch 117/200 [0.48767877 0.48687616]\n",
      "Epoch 118/200 [0.48804215 0.48639706]\n",
      "Epoch 119/200 [0.4880624  0.48649526]\n",
      "Epoch 120/200 [0.48810902 0.48615018]\n",
      "Epoch 121/200 [0.48791236 0.48625633]\n",
      "Epoch 122/200 [0.48768008 0.48631844]\n",
      "Epoch 123/200 [0.4877871  0.48627505]\n",
      "Epoch 124/200 [0.48782057 0.48619002]\n",
      "Epoch 125/200 [0.48770216 0.48621643]\n",
      "Epoch 126/200 [0.48797143 0.48591533]\n",
      "Epoch 127/200 [0.48733443 0.4865715 ]\n",
      "Epoch 128/200 [0.4878924 0.485927 ]\n",
      "Epoch 129/200 [0.48754752 0.48614678]\n",
      "Epoch 130/200 [0.48740143 0.48624533]\n",
      "Epoch 131/200 [0.48761824 0.4859382 ]\n",
      "Epoch 132/200 [0.48774186 0.48574984]\n",
      "Epoch 133/200 [0.48746198 0.48595634]\n",
      "Epoch 134/200 [0.48732015 0.48603937]\n",
      "Epoch 135/200 [0.48776177 0.4855874 ]\n",
      "Epoch 136/200 [0.48765233 0.48571363]\n",
      "Epoch 137/200 [0.48741537 0.48578647]\n",
      "Epoch 138/200 [0.48727456 0.4858639 ]\n",
      "Epoch 139/200 [0.4873621  0.48575065]\n",
      "Epoch 140/200 [0.48787516 0.48527685]\n",
      "Epoch 141/200 [0.48715517 0.48580897]\n",
      "Epoch 142/200 [0.4871435 0.4856888]\n",
      "Epoch 143/200 [0.48757166 0.4853174 ]\n",
      "Epoch 144/200 [0.48776677 0.4851047 ]\n",
      "Epoch 145/200 [0.48710254 0.48574984]\n",
      "Epoch 146/200 [0.48757693 0.48532698]\n",
      "Epoch 147/200 [0.48732    0.48537427]\n",
      "Epoch 148/200 [0.48688698 0.4858024 ]\n",
      "Epoch 149/200 [0.48767167 0.48495692]\n",
      "Epoch 150/200 [0.48715138 0.48558828]\n",
      "Epoch 151/200 [0.48731917 0.48527777]\n",
      "Epoch 152/200 [0.48741364 0.48504215]\n",
      "Epoch 153/200 [0.48705566 0.485522  ]\n",
      "Epoch 154/200 [0.48714298 0.48533425]\n",
      "Epoch 155/200 [0.48703712 0.48538706]\n",
      "Epoch 156/200 [0.48729548 0.4849987 ]\n",
      "Epoch 157/200 [0.48711464 0.48510268]\n",
      "Epoch 158/200 [0.48715356 0.4852425 ]\n",
      "Epoch 159/200 [0.48726216 0.4850261 ]\n",
      "Epoch 160/200 [0.4871931  0.48508763]\n",
      "Epoch 161/200 [0.487236  0.4850121]\n",
      "Epoch 162/200 [0.4869198  0.48516098]\n",
      "Epoch 163/200 [0.486848   0.48539504]\n",
      "Epoch 164/200 [0.48733747 0.4846956 ]\n",
      "Epoch 165/200 [0.48682123 0.4851602 ]\n",
      "Epoch 166/200 [0.4872315  0.48476028]\n",
      "Epoch 167/200 [0.4871933  0.48478913]\n",
      "Epoch 168/200 [0.4867689  0.48530337]\n",
      "Epoch 169/200 [0.487219   0.48487064]\n",
      "Epoch 170/200 [0.48716486 0.48482728]\n",
      "Epoch 171/200 [0.4869965 0.484851 ]\n",
      "Epoch 172/200 [0.48728374 0.48462445]\n",
      "Epoch 173/200 [0.48695856 0.48502597]\n",
      "Epoch 174/200 [0.487356  0.4844925]\n",
      "Epoch 175/200 [0.48658046 0.48511708]\n",
      "Epoch 176/200 [0.48690438 0.48480108]\n",
      "Epoch 177/200 [0.4869508 0.4846382]\n",
      "Epoch 178/200 [0.48702103 0.48479542]\n",
      "Epoch 179/200 [0.4867417 0.4847172]\n",
      "Epoch 180/200 [0.48691583 0.48441923]\n",
      "Epoch 181/200 [0.48705542 0.4844297 ]\n",
      "Epoch 182/200 [0.48670623 0.48469985]\n",
      "Epoch 183/200 [0.48668134 0.48473513]\n",
      "Epoch 184/200 [0.48706853 0.48430997]\n",
      "Epoch 185/200 [0.48670852 0.48475215]\n",
      "Epoch 186/200 [0.48679554 0.48462188]\n",
      "Epoch 187/200 [0.48725107 0.4842205 ]\n",
      "Epoch 188/200 [0.4864946  0.48494834]\n",
      "Epoch 189/200 [0.48686847 0.48454782]\n",
      "Epoch 190/200 [0.48705468 0.48431608]\n",
      "Epoch 191/200 [0.48679242 0.4845907 ]\n",
      "Epoch 192/200 [0.48709682 0.48421398]\n",
      "Epoch 193/200 [0.48686507 0.48459682]\n",
      "Epoch 194/200 [0.4866835  0.48467004]\n",
      "Epoch 195/200 [0.4865073  0.48467916]\n",
      "Epoch 196/200 [0.48685223 0.48438126]\n",
      "Epoch 197/200 [0.487188  0.4840322]\n",
      "Epoch 198/200 [0.48683262 0.4843328 ]\n",
      "Epoch 199/200 [0.4868713  0.48418695]\n"
     ]
    }
   ],
   "source": [
    "starting_epoch = len(l_loss)\n",
    "for epoch in range(starting_epoch, epochs):\n",
    "       \n",
    "    epoch_loss = list()\n",
    "    for step, batch_features in enumerate(training_dataset):\n",
    "        train( loss, merged_model, opt, batch_features, TF_X2 )\n",
    "        loss_values = loss_seq( merged_model, batch_features, TF_X2 )\n",
    " \n",
    "        epoch_loss.append( loss_values )\n",
    "    \n",
    "    if epoch==0:\n",
    "        epoch0_loss = epoch_loss\n",
    "\n",
    "    loss_s01 = np.mean( np.array( epoch_loss ), axis=0 )\n",
    "    l_loss.append( loss_s01 ) #np.float( loss_ae(merged_model, TF_X2)), ) )\n",
    "    print('Epoch %d/%d' %(epoch, epochs), loss_s01)"
   ]
  },
  {
   "cell_type": "code",
   "execution_count": 25,
   "metadata": {},
   "outputs": [
    {
     "data": {
      "text/plain": [
       "<matplotlib.axes._subplots.AxesSubplot at 0x7f360c2ef190>"
      ]
     },
     "execution_count": 25,
     "metadata": {},
     "output_type": "execute_result"
    },
    {
     "data": {
      "image/png": "[encoded data removed]",
      "text/plain": [
       "<Figure size 432x288 with 1 Axes>"
      ]
     },
     "metadata": {
      "needs_background": "light"
     },
     "output_type": "display_data"
    }
   ],
   "source": [
    "pd.DataFrame(np.array(epoch0_loss)).plot(logx=True)"
   ]
  },
  {
   "cell_type": "code",
   "execution_count": 26,
   "metadata": {},
   "outputs": [
    {
     "data": {
      "text/plain": [
       "<matplotlib.axes._subplots.AxesSubplot at 0x7f3704fab9d0>"
      ]
     },
     "execution_count": 26,
     "metadata": {},
     "output_type": "execute_result"
    },
    {
     "data": {
      "image/png": "[encoded data removed]",
      "text/plain": [
       "<Figure size 432x288 with 1 Axes>"
      ]
     },
     "metadata": {
      "needs_background": "light"
     },
     "output_type": "display_data"
    }
   ],
   "source": [
    "pd.DataFrame(np.array(l_loss)).plot(logx=True)"
   ]
  },
  {
   "cell_type": "code",
   "execution_count": 27,
   "metadata": {},
   "outputs": [],
   "source": [
    "with gz.open('OUTPUT/loss_dup.pkl.gz', 'wb') as f:\n",
    "    pkl.dump((epoch0_loss, l_loss), f)"
   ]
  },
  {
   "cell_type": "code",
   "execution_count": 28,
   "metadata": {},
   "outputs": [
    {
     "ename": "NameError",
     "evalue": "name 'error' is not defined",
     "output_type": "error",
     "traceback": [
      "\u001b[0;31m---------------------------------------------------------------------------\u001b[0m",
      "\u001b[0;31mNameError\u001b[0m                                 Traceback (most recent call last)",
      "\u001b[0;32m<ipython-input-28-3724b3ebbd47>\u001b[0m in \u001b[0;36m<module>\u001b[0;34m\u001b[0m\n\u001b[0;32m----> 1\u001b[0;31m \u001b[0merror\u001b[0m\u001b[0;34m(\u001b[0m\u001b[0merror\u001b[0m\u001b[0;34m)\u001b[0m\u001b[0;34m\u001b[0m\u001b[0;34m\u001b[0m\u001b[0m\n\u001b[0m",
      "\u001b[0;31mNameError\u001b[0m: name 'error' is not defined"
     ]
    }
   ],
   "source": [
    "error(error)"
   ]
  },
  {
   "cell_type": "code",
   "execution_count": null,
   "metadata": {},
   "outputs": [],
   "source": [
    "gene_encoded10 = np.array(merged_model.gene_enc(TR_X2_GENE))"
   ]
  },
  {
   "cell_type": "code",
   "execution_count": null,
   "metadata": {
    "scrolled": true
   },
   "outputs": [],
   "source": [
    "with gz.open('OUTPUT/gene_enc.pkl.gz', 'wb') as f:\n",
    "    pkl.dump(gene_encoded10, f)"
   ]
  },
  {
   "cell_type": "code",
   "execution_count": null,
   "metadata": {},
   "outputs": [],
   "source": [
    "sns.distplot(gene_encoded10.flatten())"
   ]
  },
  {
   "cell_type": "code",
   "execution_count": null,
   "metadata": {},
   "outputs": [],
   "source": [
    "total_len = len(TR_X1_SEQ)\n",
    "L_pred = list()\n",
    "\n",
    "for x_id in range(0, total_len, 1000):\n",
    "    TR_1 = TR_X1_SEQ[x_id:x_id+1000]\n",
    "\n",
    "    pred = merged_model(TR_1, TR_X2_GENE)\n",
    "    NP_pred = np.array(pred, dtype=np.float16)\n",
    "    \n",
    "    L_pred.append(NP_pred)\n",
    "\n",
    "NP_imputed = np.concatenate(L_pred)\n",
    "del L_pred\n",
    "gc.collect()"
   ]
  },
  {
   "cell_type": "code",
   "execution_count": null,
   "metadata": {},
   "outputs": [],
   "source": [
    "NP_imputed.shape"
   ]
  },
  {
   "cell_type": "code",
   "execution_count": null,
   "metadata": {},
   "outputs": [],
   "source": [
    "NP_Nucl = NP_imputed[:,:,0]\n",
    "NP_Methyl = NP_imputed[:,:,1]\n",
    "\n",
    "pd.DataFrame(NP_Nucl).to_csv('OUTPUT/pred_score_nucl.tsv', sep='\\t', header=None, index=None)\n",
    "pd.DataFrame(NP_Methyl).to_csv('OUTPUT/pred_score_methyl.tsv', sep='\\t', header=None, index=None)"
   ]
  },
  {
   "cell_type": "code",
   "execution_count": null,
   "metadata": {},
   "outputs": [],
   "source": [
    "Y_Nucl = TR_Y_PEAK[:,:,0]\n",
    "Y_Methyl = TR_Y_PEAK[:,:,1]\n",
    "\n",
    "pd.DataFrame(Y_Nucl).to_csv('OUTPUT/peak_nucl.tsv', sep='\\t', header=None, index=None)\n",
    "pd.DataFrame(Y_Methyl).to_csv('OUTPUT/peak_methyl.tsv', sep='\\t', header=None, index=None)"
   ]
  },
  {
   "cell_type": "code",
   "execution_count": null,
   "metadata": {},
   "outputs": [],
   "source": [
    "Error(Error)"
   ]
  },
  {
   "cell_type": "markdown",
   "metadata": {},
   "source": [
    "## Make batch and train 10%"
   ]
  },
  {
   "cell_type": "code",
   "execution_count": null,
   "metadata": {},
   "outputs": [],
   "source": [
    "TR_Y_PEAK_10pct = TR_Y_PEAK * (np.random.binomial(1, 0.9, TR_Y_PEAK.shape)).astype('float32')\n",
    "TR_Y_ZERO_10pct = (TR_Y_PEAK_10pct < 0.1).astype('float32')\n",
    "\n",
    "TR_Y_W0_0 = 1/(TR_Y_ZERO_10pct.mean(axis=0, keepdims=True) + 0.01) + 0.01\n",
    "TR_Y_W1_0 = 1/(TR_Y_ZERO_10pct.mean(axis=1, keepdims=True) + 0.01) + 0.01\n",
    "TR_Y_W0_1 = 1/(1-1/TR_Y_W0_0)\n",
    "TR_Y_W1_1 = 1/(1-1/TR_Y_W1_0)"
   ]
  },
  {
   "cell_type": "code",
   "execution_count": null,
   "metadata": {},
   "outputs": [],
   "source": [
    "TF_X1 = tf.data.Dataset.from_tensor_slices(TR_X1_SEQ)\n",
    "TF_X2 = tf.constant(TR_X2_GENE)\n",
    "TF_Y  = tf.data.Dataset.from_tensor_slices(TR_Y_PEAK_10pct)\n",
    "TF_W1_0 = tf.data.Dataset.from_tensor_slices(TR_Y_W1_0)\n",
    "TF_W1_1 = tf.data.Dataset.from_tensor_slices(TR_Y_W1_1)\n",
    "\n",
    "training_dataset = tf.data.Dataset.zip( (TF_X1, TF_Y, TF_W1_0, TF_W1_1) )\n",
    "training_dataset = training_dataset.batch( batch_size )\n",
    "training_dataset = training_dataset.shuffle( TR_X1_SEQ.shape[0] )\n",
    "training_dataset = training_dataset.prefetch( batch_size * 4 )"
   ]
  },
  {
   "cell_type": "code",
   "execution_count": null,
   "metadata": {},
   "outputs": [],
   "source": [
    "merged_model = MergeingModel()\n",
    "l_loss = list()\n",
    "opt = tf.optimizers.Adamax(learning_rate=learning_rate)"
   ]
  },
  {
   "cell_type": "code",
   "execution_count": null,
   "metadata": {
    "scrolled": false
   },
   "outputs": [],
   "source": [
    "starting_epoch = len(l_loss)\n",
    "for epoch in range(starting_epoch, epochs):\n",
    "       \n",
    "    epoch_loss = list()\n",
    "    for step, batch_features in enumerate(training_dataset):\n",
    "        train( loss, merged_model, opt, batch_features, TF_X2 )\n",
    "        loss_values = loss_seq( merged_model, batch_features, TF_X2 )\n",
    " \n",
    "        epoch_loss.append( loss_values )\n",
    "\n",
    "    loss_sum = np.array( epoch_loss ).mean()\n",
    "    l_loss.append( (loss_sum, 0) ) #np.float( loss_ae(merged_model, TF_X2)), ) )\n",
    "    print('Epoch %d/%d' %(epoch, epochs), loss_sum)"
   ]
  },
  {
   "cell_type": "code",
   "execution_count": null,
   "metadata": {},
   "outputs": [],
   "source": [
    "pd.DataFrame(np.array(l_loss)).plot(logx=True)"
   ]
  },
  {
   "cell_type": "code",
   "execution_count": null,
   "metadata": {},
   "outputs": [],
   "source": [
    "gene_encoded10 = np.array(merged_model.gene_enc(TR_X2_GENE))"
   ]
  },
  {
   "cell_type": "code",
   "execution_count": null,
   "metadata": {
    "scrolled": true
   },
   "outputs": [],
   "source": [
    "with gz.open('OUTPUT/gene_enc_10pct.pkl.gz', 'wb') as f:\n",
    "    pkl.dump(gene_encoded10, f)"
   ]
  },
  {
   "cell_type": "code",
   "execution_count": null,
   "metadata": {},
   "outputs": [],
   "source": [
    "sns.distplot(gene_encoded10.flatten())"
   ]
  },
  {
   "cell_type": "code",
   "execution_count": null,
   "metadata": {},
   "outputs": [],
   "source": [
    "total_len = len(TR_X1_SEQ)\n",
    "L_pred = list()\n",
    "\n",
    "for x_id in range(0, total_len, 1000):\n",
    "    TR_1 = TR_X1_SEQ[x_id:x_id+1000]\n",
    "\n",
    "    pred = merged_model(TR_1, TR_X2_GENE)\n",
    "    NP_pred = np.array(pred, dtype=np.float16)\n",
    "    \n",
    "    L_pred.append(NP_pred)\n",
    "\n",
    "NP_imputed = np.concatenate(L_pred)\n",
    "del L_pred\n",
    "gc.collect()"
   ]
  },
  {
   "cell_type": "code",
   "execution_count": null,
   "metadata": {},
   "outputs": [],
   "source": [
    "NP_imputed.shape"
   ]
  },
  {
   "cell_type": "code",
   "execution_count": null,
   "metadata": {},
   "outputs": [],
   "source": [
    "NP_Nucl = NP_imputed[:,:,0]\n",
    "NP_Methyl = NP_imputed[:,:,1]\n",
    "\n",
    "pd.DataFrame(NP_Nucl).to_csv('OUTPUT/pred_score_nucl_10pct.tsv', sep='\\t', header=None, index=None)\n",
    "pd.DataFrame(NP_Methyl).to_csv('OUTPUT/pred_score_methyl_10pct.tsv', sep='\\t', header=None, index=None)"
   ]
  },
  {
   "cell_type": "code",
   "execution_count": null,
   "metadata": {},
   "outputs": [],
   "source": [
    "Y_Nucl = TR_Y_PEAK_10pct[:,:,0]\n",
    "Y_Methyl = TR_Y_PEAK_10pct[:,:,1]\n",
    "\n",
    "pd.DataFrame(Y_Nucl).to_csv('OUTPUT/peak_nucl_10pct.tsv', sep='\\t', header=None, index=None)\n",
    "pd.DataFrame(Y_Methyl).to_csv('OUTPUT/peak_methyl_10pct.tsv', sep='\\t', header=None, index=None)"
   ]
  },
  {
   "cell_type": "markdown",
   "metadata": {},
   "source": [
    "## Make batch and train 20%"
   ]
  },
  {
   "cell_type": "code",
   "execution_count": null,
   "metadata": {},
   "outputs": [],
   "source": [
    "TR_Y_PEAK_20pct = TR_Y_PEAK * (np.random.binomial(1, 0.8, TR_Y_PEAK.shape)).astype('float32')\n",
    "TR_Y_ZERO_20pct = (TR_Y_PEAK_20pct < 0.1).astype('float32')\n",
    "\n",
    "TR_Y_W0_0 = 1/(TR_Y_ZERO_20pct.mean(axis=0, keepdims=True) + 0.01) + 0.01\n",
    "TR_Y_W1_0 = 1/(TR_Y_ZERO_20pct.mean(axis=1, keepdims=True) + 0.01) + 0.01\n",
    "TR_Y_W0_1 = 1/(1-1/TR_Y_W0_0)\n",
    "TR_Y_W1_1 = 1/(1-1/TR_Y_W1_0)"
   ]
  },
  {
   "cell_type": "code",
   "execution_count": null,
   "metadata": {},
   "outputs": [],
   "source": [
    "TF_X1 = tf.data.Dataset.from_tensor_slices(TR_X1_SEQ)\n",
    "TF_X2 = tf.constant(TR_X2_GENE)\n",
    "TF_Y  = tf.data.Dataset.from_tensor_slices(TR_Y_PEAK_20pct)\n",
    "TF_W1_0 = tf.data.Dataset.from_tensor_slices(TR_Y_W1_0)\n",
    "TF_W1_1 = tf.data.Dataset.from_tensor_slices(TR_Y_W1_1)\n",
    "\n",
    "training_dataset = tf.data.Dataset.zip( (TF_X1, TF_Y, TF_W1_0, TF_W1_1) )\n",
    "training_dataset = training_dataset.batch( batch_size )\n",
    "training_dataset = training_dataset.shuffle( TR_X1_SEQ.shape[0] )\n",
    "training_dataset = training_dataset.prefetch( batch_size * 4 )"
   ]
  },
  {
   "cell_type": "code",
   "execution_count": null,
   "metadata": {},
   "outputs": [],
   "source": [
    "merged_model = MergeingModel()\n",
    "l_loss = list()\n",
    "opt = tf.optimizers.Adamax(learning_rate=learning_rate)"
   ]
  },
  {
   "cell_type": "code",
   "execution_count": null,
   "metadata": {
    "scrolled": false
   },
   "outputs": [],
   "source": [
    "starting_epoch = len(l_loss)\n",
    "for epoch in range(starting_epoch, epochs):\n",
    "       \n",
    "    epoch_loss = list()\n",
    "    for step, batch_features in enumerate(training_dataset):\n",
    "        train( loss, merged_model, opt, batch_features, TF_X2 )\n",
    "        loss_values = loss_seq( merged_model, batch_features, TF_X2 )\n",
    " \n",
    "        epoch_loss.append( loss_values )\n",
    "\n",
    "    loss_sum = np.array( epoch_loss ).mean()\n",
    "    l_loss.append( (loss_sum, 0) ) #np.float( loss_ae(merged_model, TF_X2)), ) )\n",
    "    print('Epoch %d/%d' %(epoch, epochs), loss_sum)"
   ]
  },
  {
   "cell_type": "code",
   "execution_count": null,
   "metadata": {},
   "outputs": [],
   "source": [
    "pd.DataFrame(np.array(l_loss)).plot(logx=True)"
   ]
  },
  {
   "cell_type": "code",
   "execution_count": null,
   "metadata": {},
   "outputs": [],
   "source": [
    "gene_encoded10 = np.array(merged_model.gene_enc(TR_X2_GENE))"
   ]
  },
  {
   "cell_type": "code",
   "execution_count": null,
   "metadata": {
    "scrolled": true
   },
   "outputs": [],
   "source": [
    "with gz.open('OUTPUT/gene_enc_20pct.pkl.gz', 'wb') as f:\n",
    "    pkl.dump(gene_encoded10, f)"
   ]
  },
  {
   "cell_type": "code",
   "execution_count": null,
   "metadata": {},
   "outputs": [],
   "source": [
    "sns.distplot(gene_encoded10.flatten())"
   ]
  },
  {
   "cell_type": "code",
   "execution_count": null,
   "metadata": {},
   "outputs": [],
   "source": [
    "total_len = len(TR_X1_SEQ)\n",
    "L_pred = list()\n",
    "\n",
    "for x_id in range(0, total_len, 1000):\n",
    "    TR_1 = TR_X1_SEQ[x_id:x_id+1000]\n",
    "\n",
    "    pred = merged_model(TR_1, TR_X2_GENE)\n",
    "    NP_pred = np.array(pred, dtype=np.float16)\n",
    "    \n",
    "    L_pred.append(NP_pred)\n",
    "\n",
    "NP_imputed = np.concatenate(L_pred)\n",
    "del L_pred\n",
    "gc.collect()"
   ]
  },
  {
   "cell_type": "code",
   "execution_count": null,
   "metadata": {},
   "outputs": [],
   "source": [
    "NP_imputed.shape"
   ]
  },
  {
   "cell_type": "code",
   "execution_count": null,
   "metadata": {},
   "outputs": [],
   "source": [
    "NP_Nucl = NP_imputed[:,:,0]\n",
    "NP_Methyl = NP_imputed[:,:,1]\n",
    "\n",
    "pd.DataFrame(NP_Nucl).to_csv('OUTPUT/pred_score_nucl_20pct.tsv', sep='\\t', header=None, index=None)\n",
    "pd.DataFrame(NP_Methyl).to_csv('OUTPUT/pred_score_methyl_20pct.tsv', sep='\\t', header=None, index=None)"
   ]
  },
  {
   "cell_type": "code",
   "execution_count": null,
   "metadata": {},
   "outputs": [],
   "source": [
    "Y_Nucl = TR_Y_PEAK_20pct[:,:,0]\n",
    "Y_Methyl = TR_Y_PEAK_20pct[:,:,1]\n",
    "\n",
    "pd.DataFrame(Y_Nucl).to_csv('OUTPUT/peak_nucl_20pct.tsv', sep='\\t', header=None, index=None)\n",
    "pd.DataFrame(Y_Methyl).to_csv('OUTPUT/peak_methyl_20pct.tsv', sep='\\t', header=None, index=None)"
   ]
  },
  {
   "cell_type": "markdown",
   "metadata": {},
   "source": [
    "## Make batch and train 50%"
   ]
  },
  {
   "cell_type": "code",
   "execution_count": null,
   "metadata": {},
   "outputs": [],
   "source": [
    "TR_Y_PEAK_50pct = TR_Y_PEAK * (np.random.binomial(1, 0.5, TR_Y_PEAK.shape)).astype('float32')\n",
    "TR_Y_ZERO_50pct = (TR_Y_PEAK_50pct < 0.1).astype('float32')\n",
    "\n",
    "TR_Y_W0_0 = 1/(TR_Y_ZERO_50pct.mean(axis=0, keepdims=True) + 0.01) + 0.01\n",
    "TR_Y_W1_0 = 1/(TR_Y_ZERO_50pct.mean(axis=1, keepdims=True) + 0.01) + 0.01\n",
    "TR_Y_W0_1 = 1/(1-1/TR_Y_W0_0)\n",
    "TR_Y_W1_1 = 1/(1-1/TR_Y_W1_0)"
   ]
  },
  {
   "cell_type": "code",
   "execution_count": null,
   "metadata": {},
   "outputs": [],
   "source": [
    "TF_X1 = tf.data.Dataset.from_tensor_slices(TR_X1_SEQ)\n",
    "TF_X2 = tf.constant(TR_X2_GENE)\n",
    "TF_Y  = tf.data.Dataset.from_tensor_slices(TR_Y_PEAK_50pct)\n",
    "TF_W1_0 = tf.data.Dataset.from_tensor_slices(TR_Y_W1_0)\n",
    "TF_W1_1 = tf.data.Dataset.from_tensor_slices(TR_Y_W1_1)\n",
    "\n",
    "training_dataset = tf.data.Dataset.zip( (TF_X1, TF_Y, TF_W1_0, TF_W1_1) )\n",
    "training_dataset = training_dataset.batch( batch_size )\n",
    "training_dataset = training_dataset.shuffle( TR_X1_SEQ.shape[0] )\n",
    "training_dataset = training_dataset.prefetch( batch_size * 4 )"
   ]
  },
  {
   "cell_type": "code",
   "execution_count": null,
   "metadata": {},
   "outputs": [],
   "source": [
    "merged_model = MergeingModel()\n",
    "l_loss = list()\n",
    "opt = tf.optimizers.Adamax(learning_rate=learning_rate)"
   ]
  },
  {
   "cell_type": "code",
   "execution_count": null,
   "metadata": {
    "scrolled": false
   },
   "outputs": [],
   "source": [
    "starting_epoch = len(l_loss)\n",
    "for epoch in range(starting_epoch, epochs):\n",
    "       \n",
    "    epoch_loss = list()\n",
    "    for step, batch_features in enumerate(training_dataset):\n",
    "        train( loss, merged_model, opt, batch_features, TF_X2 )\n",
    "        loss_values = loss_seq( merged_model, batch_features, TF_X2 )\n",
    " \n",
    "        epoch_loss.append( loss_values )\n",
    "\n",
    "    loss_sum = np.array( epoch_loss ).mean()\n",
    "    l_loss.append( (loss_sum, 0) ) #np.float( loss_ae(merged_model, TF_X2)), ) )\n",
    "    print('Epoch %d/%d' %(epoch, epochs), loss_sum)"
   ]
  },
  {
   "cell_type": "code",
   "execution_count": null,
   "metadata": {},
   "outputs": [],
   "source": [
    "pd.DataFrame(np.array(l_loss)).plot(logx=True)"
   ]
  },
  {
   "cell_type": "code",
   "execution_count": null,
   "metadata": {},
   "outputs": [],
   "source": [
    "gene_encoded10 = np.array(merged_model.gene_enc(TR_X2_GENE))"
   ]
  },
  {
   "cell_type": "code",
   "execution_count": null,
   "metadata": {
    "scrolled": true
   },
   "outputs": [],
   "source": [
    "with gz.open('OUTPUT/gene_enc_50pct.pkl.gz', 'wb') as f:\n",
    "    pkl.dump(gene_encoded10, f)"
   ]
  },
  {
   "cell_type": "code",
   "execution_count": null,
   "metadata": {},
   "outputs": [],
   "source": [
    "sns.distplot(gene_encoded10.flatten())"
   ]
  },
  {
   "cell_type": "code",
   "execution_count": null,
   "metadata": {},
   "outputs": [],
   "source": [
    "total_len = len(TR_X1_SEQ)\n",
    "L_pred = list()\n",
    "\n",
    "for x_id in range(0, total_len, 1000):\n",
    "    TR_1 = TR_X1_SEQ[x_id:x_id+1000]\n",
    "\n",
    "    pred = merged_model(TR_1, TR_X2_GENE)\n",
    "    NP_pred = np.array(pred, dtype=np.float16)\n",
    "    \n",
    "    L_pred.append(NP_pred)\n",
    "\n",
    "NP_imputed = np.concatenate(L_pred)\n",
    "del L_pred\n",
    "gc.collect()"
   ]
  },
  {
   "cell_type": "code",
   "execution_count": null,
   "metadata": {},
   "outputs": [],
   "source": [
    "NP_imputed.shape"
   ]
  },
  {
   "cell_type": "code",
   "execution_count": null,
   "metadata": {},
   "outputs": [],
   "source": [
    "NP_Nucl = NP_imputed[:,:,0]\n",
    "NP_Methyl = NP_imputed[:,:,1]\n",
    "\n",
    "pd.DataFrame(NP_Nucl).to_csv('OUTPUT/pred_score_nucl_50pct.tsv', sep='\\t', header=None, index=None)\n",
    "pd.DataFrame(NP_Methyl).to_csv('OUTPUT/pred_score_methyl_50pct.tsv', sep='\\t', header=None, index=None)"
   ]
  },
  {
   "cell_type": "code",
   "execution_count": null,
   "metadata": {},
   "outputs": [],
   "source": [
    "Y_Nucl = TR_Y_PEAK_50pct[:,:,0]\n",
    "Y_Methyl = TR_Y_PEAK_50pct[:,:,1]\n",
    "\n",
    "pd.DataFrame(Y_Nucl).to_csv('OUTPUT/peak_nucl_50pct.tsv', sep='\\t', header=None, index=None)\n",
    "pd.DataFrame(Y_Methyl).to_csv('OUTPUT/peak_methyl_50pct.tsv', sep='\\t', header=None, index=None)"
   ]
  },
  {
   "cell_type": "code",
   "execution_count": null,
   "metadata": {},
   "outputs": [],
   "source": [
    "error"
   ]
  },
  {
   "cell_type": "code",
   "execution_count": null,
   "metadata": {},
   "outputs": [],
   "source": [
    "L_cell_id = list(pd.read_csv('INPUT_1/ID_CELL.txt', header=None)[0])\n",
    "pd.DataFrame(gene_encoded10, index=L_cell_id).to_csv('OUTPUT/gene_enc.tsv', sep='\\t', header=None)"
   ]
  },
  {
   "cell_type": "code",
   "execution_count": null,
   "metadata": {},
   "outputs": [],
   "source": [
    "#pred = merged_model(TR_X1_SEQ[:1000], TR_X2_GENE)"
   ]
  },
  {
   "cell_type": "code",
   "execution_count": null,
   "metadata": {},
   "outputs": [],
   "source": [
    "#pred.shape"
   ]
  },
  {
   "cell_type": "code",
   "execution_count": null,
   "metadata": {},
   "outputs": [],
   "source": [
    "y_hat_0 = NP_imputed[:total_len//2]\n",
    "y_hat_1 = NP_imputed[total_len//2:]"
   ]
  },
  {
   "cell_type": "code",
   "execution_count": null,
   "metadata": {},
   "outputs": [],
   "source": [
    "y_hat_mean = (y_hat_0 + y_hat_1)/2\n",
    "y_hat_diff = np.abs(y_hat_0 - y_hat_1)\n",
    "del y_hat_0\n",
    "del y_hat_1"
   ]
  },
  {
   "cell_type": "code",
   "execution_count": null,
   "metadata": {},
   "outputs": [],
   "source": [
    "T = (TR_Y_PEAK[:total_len//2]).astype(np.int8)\n",
    "nT = T.sum()\n",
    "F = (1-T)\n",
    "nF = F.sum()"
   ]
  },
  {
   "cell_type": "code",
   "execution_count": null,
   "metadata": {},
   "outputs": [],
   "source": [
    "cutline_list = np.concatenate(\n",
    "    (np.arange(0, 0.3, 0.1),\n",
    "     np.arange(0.31, 0.69, 0.01),\n",
    "     np.arange(0.7, 1.0, 0.1)))"
   ]
  },
  {
   "cell_type": "code",
   "execution_count": null,
   "metadata": {},
   "outputs": [],
   "source": [
    "#cutline_list = np.arange(0, 1.01,0.05)"
   ]
  },
  {
   "cell_type": "code",
   "execution_count": null,
   "metadata": {},
   "outputs": [],
   "source": [
    "gc.collect()"
   ]
  },
  {
   "cell_type": "code",
   "execution_count": null,
   "metadata": {},
   "outputs": [],
   "source": [
    "L_stat = list()\n",
    "for diff_weight in np.arange(-0.5, 0.501, 0.25):\n",
    "    y_hat_adj = y_hat_mean + diff_weight * y_hat_diff\n",
    "    \n",
    "    for cutline in cutline_list:\n",
    "        adj = 0.99999 - cutline\n",
    "        P = (y_hat_adj + adj).astype(np.int8)\n",
    "        nP = P.sum()\n",
    "        \n",
    "        TP = T * P\n",
    "        nTP = TP.sum()\n",
    "        #print(nP, nTP)\n",
    "        if nP==0:\n",
    "            Prec = 1.0\n",
    "            Recall = 0.0\n",
    "        else:\n",
    "            Prec   = nTP/nP\n",
    "            Recall = nTP/nT\n",
    "        \n",
    "        FP = F * P\n",
    "        nFP = FP.sum()\n",
    "        FPR = nFP/nF\n",
    "        \n",
    "        F1 = 2*Prec*Recall/(Prec+Recall)\n",
    "        F2 = 5*Prec*Recall/(4*Prec+Recall)\n",
    "\n",
    "        print([diff_weight, cutline, Prec, Recall, F1, F2, FPR])\n",
    "        L_stat.append([diff_weight, cutline, Prec, Recall, F1, F2, FPR])\n",
    "    del y_hat_adj\n",
    "    gc.collect()"
   ]
  },
  {
   "cell_type": "code",
   "execution_count": null,
   "metadata": {},
   "outputs": [],
   "source": [
    "DF_stat = pd.DataFrame(L_stat, columns=['diff_weight', 'cutline', 'Prec', 'Recall', 'F1', 'F2', 'FPR'])"
   ]
  },
  {
   "cell_type": "code",
   "execution_count": null,
   "metadata": {},
   "outputs": [],
   "source": [
    "DF_stat.to_csv('stat_dup.tsv', sep='\\t', index=None)"
   ]
  },
  {
   "cell_type": "code",
   "execution_count": null,
   "metadata": {},
   "outputs": [],
   "source": [
    "ERROR(ERROR)"
   ]
  },
  {
   "cell_type": "code",
   "execution_count": null,
   "metadata": {},
   "outputs": [],
   "source": [
    "sns.heatmap(np.array(DF_stat['F1']).reshape(5,-1))"
   ]
  },
  {
   "cell_type": "code",
   "execution_count": null,
   "metadata": {},
   "outputs": [],
   "source": [
    "sns.heatmap(np.array(DF_stat['F2']).reshape(5,-1))"
   ]
  },
  {
   "cell_type": "code",
   "execution_count": null,
   "metadata": {},
   "outputs": [],
   "source": [
    "sns.lineplot(x='cutline', y='F2', hue='diff_weight', data=DF_stat, palette='Reds')\n",
    "sns.lineplot(x='cutline', y='F1', hue='diff_weight', data=DF_stat, palette='Blues')\n",
    "plt.legend(bbox_to_anchor=(1.05, 1), loc=2, borderaxespad=0.)"
   ]
  },
  {
   "cell_type": "code",
   "execution_count": null,
   "metadata": {},
   "outputs": [],
   "source": [
    "center=(DF_stat['cutline']>0.4) & (DF_stat['cutline'] <0.7)"
   ]
  },
  {
   "cell_type": "code",
   "execution_count": null,
   "metadata": {},
   "outputs": [],
   "source": [
    "DF_stat_center = DF_stat[ center ]\n",
    "sns.lineplot(x='cutline', y='F1', hue='diff_weight', data=DF_stat_center, palette='Reds')\n",
    "sns.lineplot(x='cutline', y='F2', hue='diff_weight', data=DF_stat_center, palette='Blues')\n",
    "plt.legend(bbox_to_anchor=(1.05, 1), loc=2, borderaxespad=0.)"
   ]
  },
  {
   "cell_type": "code",
   "execution_count": null,
   "metadata": {},
   "outputs": [],
   "source": [
    "sns.lineplot(x='cutline', y='Recall', hue='diff_weight', data=DF_stat)"
   ]
  },
  {
   "cell_type": "code",
   "execution_count": null,
   "metadata": {},
   "outputs": [],
   "source": [
    "sns.lineplot(x='cutline', y='Prec', hue='diff_weight', data=DF_stat)"
   ]
  },
  {
   "cell_type": "code",
   "execution_count": null,
   "metadata": {},
   "outputs": [],
   "source": [
    "ing for the group fiksns.lineplot(x='cutline', y='FPR', hue='diff_weight', data=DF_stat)"
   ]
  },
  {
   "cell_type": "code",
   "execution_count": null,
   "metadata": {},
   "outputs": [],
   "source": [
    "sns.lineplot(x='FPR', y='Recall', hue='diff_weight', data=DF_stat)\n",
    "sns.lineplot(x=[0,1], y=[0,1])"
   ]
  },
  {
   "cell_type": "code",
   "execution_count": null,
   "metadata": {},
   "outputs": [],
   "source": [
    "y_hat_adj"
   ]
  },
  {
   "cell_type": "code",
   "execution_count": null,
   "metadata": {},
   "outputs": [],
   "source": [
    "L_stat2 = list()\n",
    "y_hat_adj = y_hat_mean\n",
    "    \n",
    "for cutline in cutline_list:\n",
    "    adj = 0.99999 - cutline\n",
    "    P = (y_hat_adj + adj).astype(np.int8)\n",
    "    nP = P.sum()\n",
    "\n",
    "    TP = T * P\n",
    "    nTP = TP.sum()\n",
    "\n",
    "    if nP==0:\n",
    "        Prec = 1.0\n",
    "        Recall = 0.0\n",
    "    else:\n",
    "        Prec   = nTP/nP\n",
    "        Recall = nTP/nT\n",
    "\n",
    "    FP = F * P\n",
    "    nFP = FP.sum()\n",
    "    \n",
    "    for hR in [0.0, 0.15, 0.3, 0.45]:\n",
    "        hTr  = nF * hR\n",
    "        hTPr = hTr * Recall\n",
    "        hFPR  = (nFP - hTPr)/(nF - hTr)\n",
    "\n",
    "        print([cutline, hR, Recall, hFPR])\n",
    "        L_stat2.append([cutline, hR, Recall, hFPR])\n",
    "del y_hat_adj\n",
    "gc.collect()"
   ]
  },
  {
   "cell_type": "code",
   "execution_count": null,
   "metadata": {},
   "outputs": [],
   "source": [
    "DF_stat2 = pd.DataFrame(L_stat2, columns=['cutline', 'hidden_rate', 'Recall', 'FPR'])"
   ]
  },
  {
   "cell_type": "code",
   "execution_count": null,
   "metadata": {},
   "outputs": [],
   "source": [
    "sns.lineplot(x='FPR', y='Recall', hue='hidden_rate', data=DF_stat2)\n",
    "sns.lineplot(x=[0,1], y=[0,1])"
   ]
  },
  {
   "cell_type": "code",
   "execution_count": null,
   "metadata": {},
   "outputs": [],
   "source": [
    "L_stat0 = list()\n",
    "y0 = y_hat_mean[:,:,0]\n",
    "T0 = T[:,:,0]\n",
    "nT0 = T0.sum()\n",
    "F0 = F[:,:,0]\n",
    "nF0 = F0.sum()\n",
    "    \n",
    "for cutline in cutline_list:\n",
    "    adj = 0.99999 - cutline\n",
    "    P = (y0 + adj).astype(np.int8)\n",
    "    nP = P.sum()\n",
    "\n",
    "    TP = T0 * P\n",
    "    nTP = TP.sum()\n",
    "\n",
    "    if nP==0:\n",
    "        Prec = 1.0\n",
    "        Recall = 0.0\n",
    "    else:\n",
    "        Prec   = nTP/nP\n",
    "        Recall = nTP/nT0\n",
    "\n",
    "    FP = F0 * P\n",
    "    nFP = FP.sum()\n",
    "    \n",
    "    for hR in [0.0, 0.15, 0.3, 0.45]:\n",
    "        hTr  = nF0 * hR\n",
    "        hTPr = hTr * Recall\n",
    "        hFPR  = (nFP - hTPr)/(nF0 - hTr)\n",
    "\n",
    "        print([cutline, hR, Recall, hFPR])\n",
    "        L_stat0.append([cutline, hR, Recall, hFPR])\n",
    "gc.collect()"
   ]
  },
  {
   "cell_type": "code",
   "execution_count": null,
   "metadata": {},
   "outputs": [],
   "source": [
    "DF_stat0 = pd.DataFrame(L_stat0, columns=['cutline', 'hidden_rate', 'Recall', 'FPR'])"
   ]
  },
  {
   "cell_type": "code",
   "execution_count": null,
   "metadata": {},
   "outputs": [],
   "source": [
    "sns.lineplot(x='FPR', y='Recall', hue='hidden_rate', data=DF_stat0)\n",
    "sns.lineplot(x=[0,1], y=[0,1])"
   ]
  },
  {
   "cell_type": "code",
   "execution_count": null,
   "metadata": {},
   "outputs": [],
   "source": [
    "L_stat1 = list()\n",
    "y1 = y_hat_mean[:,:,1]\n",
    "T1 = T[:,:,1]\n",
    "nT1 = T1.sum()\n",
    "F1 = F[:,:,1]\n",
    "nF1 = F1.sum()\n",
    "    \n",
    "for cutline in cutline_list:\n",
    "    adj = 0.99999 - cutline\n",
    "    P = (y1 + adj).astype(np.int8)\n",
    "    nP = P.sum()\n",
    "\n",
    "    TP = T1 * P\n",
    "    nTP = TP.sum()\n",
    "\n",
    "    if nP==0:\n",
    "        Prec = 1.0\n",
    "        Recall = 0.0\n",
    "    else:\n",
    "        Prec   = nTP/nP\n",
    "        Recall = nTP/nT1\n",
    "\n",
    "    FP = F1 * P\n",
    "    nFP = FP.sum()\n",
    "    \n",
    "    for hR in [0.0, 0.15, 0.3, 0.45]:\n",
    "        hTr  = nF1 * hR\n",
    "        hTPr = hTr * Recall\n",
    "        hFPR  = (nFP - hTPr)/(nF1 - hTr)\n",
    "\n",
    "        print([cutline, hR, Recall, hFPR])\n",
    "        L_stat1.append([cutline, hR, Recall, hFPR])\n",
    "gc.collect()"
   ]
  },
  {
   "cell_type": "code",
   "execution_count": null,
   "metadata": {},
   "outputs": [],
   "source": [
    "DF_stat1 = pd.DataFrame(L_stat1, columns=['cutline', 'hidden_rate', 'Recall', 'FPR'])"
   ]
  },
  {
   "cell_type": "code",
   "execution_count": null,
   "metadata": {},
   "outputs": [],
   "source": [
    "sns.lineplot(x='FPR', y='Recall', hue='hidden_rate', data=DF_stat1)\n",
    "sns.lineplot(x=[0,1], y=[0,1])"
   ]
  },
  {
   "cell_type": "code",
   "execution_count": null,
   "metadata": {},
   "outputs": [],
   "source": []
  }
 ],
 "metadata": {
  "kernelspec": {
   "display_name": "Python 3",
   "language": "python",
   "name": "python3"
  }
 },
 "nbformat": 4,
 "nbformat_minor": 2
}
